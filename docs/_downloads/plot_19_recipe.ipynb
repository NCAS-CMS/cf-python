{
  "cells": [
    {
      "cell_type": "code",
      "execution_count": null,
      "metadata": {
        "collapsed": false
      },
      "outputs": [],
      "source": [
        "%matplotlib inline"
      ]
    },
    {
      "cell_type": "markdown",
      "metadata": {},
      "source": [
        "\n# Plotting per-season trends in global sea surface temperature extrema\n\nIn this recipe we find the area-based extrema of global sea surface\ntemperature per month and, because it is very difficult to\ninterpret for trends when in a monthly form, we calculate and plot\non top of this the mean across each season for both the minima and the\nmaxima.\n\nisort:skip_file\n"
      ]
    },
    {
      "cell_type": "markdown",
      "metadata": {},
      "source": [
        "1. Import cf-python, cf-plot and other required packages:\n\n"
      ]
    },
    {
      "cell_type": "code",
      "execution_count": null,
      "metadata": {
        "collapsed": false
      },
      "outputs": [],
      "source": [
        "import matplotlib.pyplot as plt\nimport cfplot as cfp\n\nimport cf"
      ]
    },
    {
      "cell_type": "markdown",
      "metadata": {},
      "source": [
        "2. Read the dataset in extract the SST Field from the FieldList:\n\n"
      ]
    },
    {
      "cell_type": "code",
      "execution_count": null,
      "metadata": {
        "collapsed": false
      },
      "outputs": [],
      "source": [
        "f = cf.read(\"~/recipes/ERA5_monthly_averaged_SST.nc\")\nsst = f[0]  # this gives the sea surface temperature (SST)"
      ]
    },
    {
      "cell_type": "markdown",
      "metadata": {},
      "source": [
        "3. Collapse the SST data by area extrema (extrema over spatial dimensions):\n\n"
      ]
    },
    {
      "cell_type": "code",
      "execution_count": null,
      "metadata": {
        "collapsed": false
      },
      "outputs": [],
      "source": [
        "am_max = sst.collapse(\"area: maximum\")  # equivalent to \"X Y: maximum\"\nam_min = sst.collapse(\"area: minimum\")  # equivalent to \"X Y: minimum\""
      ]
    },
    {
      "cell_type": "markdown",
      "metadata": {},
      "source": [
        "4. Reduce all timeseries down to just 1980+ since there are some data\nquality issues before 1970 and also this window is about perfect size\nfor viewing the trends without the line plot becoming too cluttered:\n\n"
      ]
    },
    {
      "cell_type": "code",
      "execution_count": null,
      "metadata": {
        "collapsed": false
      },
      "outputs": [],
      "source": [
        "am_max = am_max.subspace(T=cf.ge(cf.dt(\"1980-01-01\")))\nam_min = am_min.subspace(T=cf.ge(cf.dt(\"1980-01-01\")))"
      ]
    },
    {
      "cell_type": "markdown",
      "metadata": {},
      "source": [
        "5. Create a mapping which provides the queries we need to collapse on\nthe four seasons, along with our description of them, as a value, with\nthe key of the string encoding the colour we want to plot these\ntrend lines in. This structure will be iterated over to make our plot:\n\n"
      ]
    },
    {
      "cell_type": "code",
      "execution_count": null,
      "metadata": {
        "collapsed": false
      },
      "outputs": [],
      "source": [
        "colours_seasons_mapping = {\n    \"red\": (cf.mam(), \"Mean across MAM: March, April and May\"),\n    \"blue\": (cf.jja(), \"Mean across JJA: June, July and August\"),\n    \"green\": (cf.son(), \"Mean across SON: September, October and November\"),\n    \"purple\": (cf.djf(), \"Mean across DJF: December, January and February\"),\n}"
      ]
    },
    {
      "cell_type": "markdown",
      "metadata": {},
      "source": [
        "6. Create and open the plot file. Put maxima subplot at top since these\nvalues are higher, given increasing x axis.\nNote we set limits manually with 'gset' only to\nallow space so the legend doesn't overlap the data, which isn't\npossible purely from positioning it anywhere within the default plot.\nOtherwise cf-plot handles this for us. To plot the per-season means\nof the maxima, we loop through the season query mapping and do a\n\"T: mean\" collapse setting the season as the grouping:\n\n"
      ]
    },
    {
      "cell_type": "code",
      "execution_count": null,
      "metadata": {
        "collapsed": false
      },
      "outputs": [],
      "source": [
        "cfp.gopen(\n    rows=2,\n    columns=1,\n    bottom=0.1,\n    top=0.85,\n)\ncfp.gpos(1)\ncfp.gset(xmin=\"1980-01-01\", xmax=\"2022-12-01\", ymin=304, ymax=312)\nfor colour, season_query in colours_seasons_mapping.items():\n    query_on_season, season_description = season_query\n    am_max_collapse = am_max.collapse(\"T: mean\", group=query_on_season)\n    cfp.lineplot(\n        am_max_collapse,\n        color=colour,\n        markeredgecolor=colour,\n        marker=\"o\",\n        label=season_description,\n        title=\"Maxima per month or season\",\n    )\ncfp.lineplot(\n    am_max,\n    color=\"grey\",\n    xlabel=\"\",\n    label=\"All months\",\n)\n# Create and add minima subplot below the maxima one. Just like for the\n# maxima case, we plot per-season means by looping through the season query\n# mapping and doing a \"T: mean\" collapse setting the season as the grouping\ncfp.gpos(2)\ncfp.gset(xmin=\"1980-01-01\", xmax=\"2022-12-01\", ymin=269, ymax=272)\nfor colour, season_query in colours_seasons_mapping.items():\n    query_on_season, season_description = season_query\n    am_min_collapse = am_min.collapse(\"T: mean\", group=query_on_season)\n    cfp.lineplot(\n        am_min_collapse,\n        color=colour,\n        markeredgecolor=colour,\n        marker=\"o\",\n        xlabel=\"\",\n        title=\"Minima per month or season\",\n    )\ncfp.lineplot(\n    am_min,\n    color=\"grey\",\n)\n# Add an overall title to the plot and close the file to save it\nplt.suptitle(\n    \"Global mean sea surface temperature (SST) monthly\\nminima and maxima \"\n    \"showing seasonal means of these extrema\",\n    fontsize=18,\n)\ncfp.gclose()"
      ]
    }
  ],
  "metadata": {
    "kernelspec": {
      "display_name": "Python 3",
      "language": "python",
      "name": "python3"
    },
    "language_info": {
      "codemirror_mode": {
        "name": "ipython",
        "version": 3
      },
      "file_extension": ".py",
      "mimetype": "text/x-python",
      "name": "python",
      "nbconvert_exporter": "python",
      "pygments_lexer": "ipython3",
      "version": "3.11.11"
    }
  },
  "nbformat": 4,
  "nbformat_minor": 0
}