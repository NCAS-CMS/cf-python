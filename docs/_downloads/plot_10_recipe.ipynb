{
  "cells": [
    {
      "cell_type": "code",
      "execution_count": null,
      "metadata": {
        "collapsed": false
      },
      "outputs": [],
      "source": [
        "%matplotlib inline"
      ]
    },
    {
      "cell_type": "markdown",
      "metadata": {},
      "source": [
        "\n# Calculating and plotting the relative vorticity\n\nVorticity, the microscopic measure of rotation in a fluid, is a vector field\ndefined as the curl of velocity\n[(James R. Holton, Gregory J. Hakim, An Introduction to Dynamic Meteorology,\n2013, Elsevier : Academic Press p95-125)](https://www.sciencedirect.com/science/article/pii/B9780123848666000040).\nIn this recipe, we will be calculating and plotting the relative vorticity\nfrom the wind components.\n"
      ]
    },
    {
      "cell_type": "markdown",
      "metadata": {},
      "source": [
        "1. Import cf-python and cf-plot:\n\n"
      ]
    },
    {
      "cell_type": "code",
      "execution_count": null,
      "metadata": {
        "collapsed": false
      },
      "outputs": [],
      "source": [
        "import cfplot as cfp\n\nimport cf"
      ]
    },
    {
      "cell_type": "markdown",
      "metadata": {},
      "source": [
        "2. Read the field constructs:\n\n"
      ]
    },
    {
      "cell_type": "code",
      "execution_count": null,
      "metadata": {
        "collapsed": false
      },
      "outputs": [],
      "source": [
        "f = cf.read(\"~/recipes/ERA5_monthly_averaged_pressure_levels.nc\")\nprint(f)"
      ]
    },
    {
      "cell_type": "markdown",
      "metadata": {},
      "source": [
        "3. Select wind components and look at their contents:\n\n"
      ]
    },
    {
      "cell_type": "code",
      "execution_count": null,
      "metadata": {
        "collapsed": false
      },
      "outputs": [],
      "source": [
        "u = f.select_field(\"eastward_wind\")\nprint(u)"
      ]
    },
    {
      "cell_type": "code",
      "execution_count": null,
      "metadata": {
        "collapsed": false
      },
      "outputs": [],
      "source": [
        "v = f.select_field(\"northward_wind\")\nprint(v)"
      ]
    },
    {
      "cell_type": "markdown",
      "metadata": {},
      "source": [
        "4. Create a date-time object for the required time period:\n\n"
      ]
    },
    {
      "cell_type": "code",
      "execution_count": null,
      "metadata": {
        "collapsed": false
      },
      "outputs": [],
      "source": [
        "jan_2023 = cf.year(2023) & cf.month(1)"
      ]
    },
    {
      "cell_type": "markdown",
      "metadata": {},
      "source": [
        "5. The relative vorticity is calculated using [cf.curl_xy](https://ncas-cms.github.io/cf-python/function/cf.curl_xy.html) and\nplotted using [cfplot.con](http://ajheaps.github.io/cf-plot/con.html).\nThe ``with cf.relaxed_identities(True)`` context manager statement prevents\nthe curl opereration broadcasting across the two ``expver`` dimensions because\nit can't be certain that they are the same as they lack the standardised\nmetadata. Setting\n``cf.relaxed_identities(True)`` allows the ``long_name`` to be treated\nas standardised metadata. Since the horizontal coordinates are latitude and\nlongitude, the\n[cf.curl_xy](https://ncas-cms.github.io/cf-python/function/cf.curl_xy.html)\nfunction automatically accounts for the Earth's spherical geometry when\ncalculating the spatial derivatives in the horizontal directions, and for this\nit requires the Earth's radius. In this case the radius is not stored in the\nwind fields, so must be provided by setting ``radius=\"earth\"`` keyword\nparameter. While plotting, the relative vorticity is subspaced for January\n2023 and one of the `experiment versions` using the dictionary unpacking\noperator (``**``) as there is an equal to sign in the identifier\n(``\"long_name=expver\"``):\n\n"
      ]
    },
    {
      "cell_type": "code",
      "execution_count": null,
      "metadata": {
        "collapsed": false
      },
      "outputs": [],
      "source": [
        "with cf.relaxed_identities(True):\n    rv = cf.curl_xy(u, v, radius=\"earth\")\n\ncfp.con(\n    rv.subspace(T=jan_2023, **{\"long_name=expver\": 1}),\n    lines=False,\n    title=\"Relative Vorticity\",\n)"
      ]
    },
    {
      "cell_type": "markdown",
      "metadata": {},
      "source": [
        "6. Although the X axis is cyclic, it is not recognised as such, owing to the\nfact that the longitude coordinate bounds are missing. This results in\ndiscontinuities in the calculated vorticity field on the plot at the\nwrap-around location of 0 degrees east. The cyclicity could either be set on\nthe field itself or just in the curl command  by setting ``'x_wrap=True'``\nwhile calculating the relative vorticity. Setting ``rv.units = \"s-1\"``,\nensures that the units of the relative vorticity field are consistent with\nthe calculation and the physical interpretation of the quantity:\n\n"
      ]
    },
    {
      "cell_type": "code",
      "execution_count": null,
      "metadata": {
        "collapsed": false
      },
      "outputs": [],
      "source": [
        "print(v.coordinate(\"X\").has_bounds())"
      ]
    },
    {
      "cell_type": "code",
      "execution_count": null,
      "metadata": {
        "collapsed": false
      },
      "outputs": [],
      "source": [
        "with cf.relaxed_identities(True):\n    rv = cf.curl_xy(u, v, x_wrap=True, radius=\"earth\")\n\nrv.units = \"s-1\"\nprint(rv)"
      ]
    },
    {
      "cell_type": "code",
      "execution_count": null,
      "metadata": {
        "collapsed": false
      },
      "outputs": [],
      "source": [
        "cfp.con(\n    rv.subspace(T=jan_2023, **{\"long_name=expver\": 1}),\n    lines=False,\n    title=\"Relative Vorticity\",\n)"
      ]
    }
  ],
  "metadata": {
    "kernelspec": {
      "display_name": "Python 3",
      "language": "python",
      "name": "python3"
    },
    "language_info": {
      "codemirror_mode": {
        "name": "ipython",
        "version": 3
      },
      "file_extension": ".py",
      "mimetype": "text/x-python",
      "name": "python",
      "nbconvert_exporter": "python",
      "pygments_lexer": "ipython3",
      "version": "3.10.9"
    }
  },
  "nbformat": 4,
  "nbformat_minor": 0
}