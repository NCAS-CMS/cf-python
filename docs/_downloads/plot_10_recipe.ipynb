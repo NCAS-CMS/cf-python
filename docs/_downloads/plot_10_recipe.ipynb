{
  "cells": [
    {
      "cell_type": "code",
      "execution_count": null,
      "metadata": {
        "collapsed": false
      },
      "outputs": [],
      "source": [
        "%matplotlib inline"
      ]
    },
    {
      "cell_type": "markdown",
      "metadata": {},
      "source": [
        "\n# Calculating and plotting the relative vorticity\n\nVorticity, the microscopic measure of rotation in a fluid, is a vector field \ndefined as the curl of velocity \n[(James R. Holton, Gregory J. Hakim, An Introduction to Dynamic Meteorology, \n2013, Elsevier : Academic Press p95-125)](https://www.sciencedirect.com/science/article/pii/B9780123848666000040). \nIn this recipe, we will be calculating and plotting the relative vorticity \nfrom the wind components.\n"
      ]
    },
    {
      "cell_type": "markdown",
      "metadata": {},
      "source": [
        "1. Import cf-python and cf-plot:\n\n"
      ]
    },
    {
      "cell_type": "code",
      "execution_count": null,
      "metadata": {
        "collapsed": false
      },
      "outputs": [],
      "source": [
        "import cfplot as cfp\n\nimport cf"
      ]
    },
    {
      "cell_type": "markdown",
      "metadata": {},
      "source": [
        "2. Read the field constructs:\n\n"
      ]
    },
    {
      "cell_type": "code",
      "execution_count": null,
      "metadata": {
        "collapsed": false
      },
      "outputs": [],
      "source": [
        "f = cf.read(\"~/recipes/ERA5_monthly_averaged_pressure_levels.nc\")\nprint(f)"
      ]
    },
    {
      "cell_type": "markdown",
      "metadata": {},
      "source": [
        "3. Select wind components and look at their contents:\n\n"
      ]
    },
    {
      "cell_type": "code",
      "execution_count": null,
      "metadata": {
        "collapsed": false
      },
      "outputs": [],
      "source": [
        "u = f[1]\nprint(u)"
      ]
    },
    {
      "cell_type": "code",
      "execution_count": null,
      "metadata": {
        "collapsed": false
      },
      "outputs": [],
      "source": [
        "v = f[2]\nprint(v)"
      ]
    },
    {
      "cell_type": "markdown",
      "metadata": {},
      "source": [
        "4. Create a date-time object for the required time period:\n\n"
      ]
    },
    {
      "cell_type": "code",
      "execution_count": null,
      "metadata": {
        "collapsed": false
      },
      "outputs": [],
      "source": [
        "jan_2023 = cf.year(2023) & cf.month(1)"
      ]
    },
    {
      "cell_type": "markdown",
      "metadata": {},
      "source": [
        "5. The wind components are subspaced for January 2023 while selecting one of \nthe `experiment version` dimensions:\n\n"
      ]
    },
    {
      "cell_type": "code",
      "execution_count": null,
      "metadata": {
        "collapsed": false
      },
      "outputs": [],
      "source": [
        "u2 = u.subspace(T=jan_2023)[:, 0, :, :]\nv2 = v.subspace(T=jan_2023)[:, 0, :, :]"
      ]
    },
    {
      "cell_type": "markdown",
      "metadata": {},
      "source": [
        "6. The relative vorticity is calculated using [cf.curl_xy](https://ncas-cms.github.io/cf-python/function/cf.curl_xy.html) and\nplotted using [cfplot.con](http://ajheaps.github.io/cf-plot/con.html).\nSetting ``radius=\"earth\"`` in the the [cf.curl_xy](https://ncas-cms.github.io/cf-python/function/cf.curl_xy.html) function\ntakes into account the Earth's spherical geometry when calculating the\nspatial derivatives in the horizontal directions, leading to a more accurate\nrepresentation of the relative vorticity:\n\n"
      ]
    },
    {
      "cell_type": "code",
      "execution_count": null,
      "metadata": {
        "collapsed": false
      },
      "outputs": [],
      "source": [
        "rv = cf.curl_xy(u2, v2, radius=\"earth\")\ncfp.con(rv, lines=False, title=\"Relative Vorticity\")"
      ]
    },
    {
      "cell_type": "markdown",
      "metadata": {},
      "source": [
        "7. Although the X axis is cyclic, it is not recognised as one, owing to the \nfact that the bounds are missing. This results in discontinuities in the \ncalculated vorticity field on the plot. The cyclicity could either be set on \nthe field itself or just in the curl command  by setting ``'x_wrap=True'`` \nwhile calculating the relative vorticity. Setting ``rv.units = \"s-1\"``, \nensures that the units of the relative vorticity field are consistent with \nthe calculation and the physical interpretation of the quantity:\n\n"
      ]
    },
    {
      "cell_type": "code",
      "execution_count": null,
      "metadata": {
        "collapsed": false
      },
      "outputs": [],
      "source": [
        "print(v.coordinate(\"X\").has_bounds())"
      ]
    },
    {
      "cell_type": "code",
      "execution_count": null,
      "metadata": {
        "collapsed": false
      },
      "outputs": [],
      "source": [
        "rv = cf.curl_xy(u2, v2, x_wrap=True, radius=\"earth\")\nrv.units = \"s-1\"\nprint(rv)"
      ]
    },
    {
      "cell_type": "code",
      "execution_count": null,
      "metadata": {
        "collapsed": false
      },
      "outputs": [],
      "source": [
        "cfp.con(rv, lines=False, title=\"Relative Vorticity\")"
      ]
    }
  ],
  "metadata": {
    "kernelspec": {
      "display_name": "Python 3",
      "language": "python",
      "name": "python3"
    },
    "language_info": {
      "codemirror_mode": {
        "name": "ipython",
        "version": 3
      },
      "file_extension": ".py",
      "mimetype": "text/x-python",
      "name": "python",
      "nbconvert_exporter": "python",
      "pygments_lexer": "ipython3",
      "version": "3.10.9"
    }
  },
  "nbformat": 4,
  "nbformat_minor": 0
}