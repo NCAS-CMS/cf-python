{
  "cells": [
    {
      "cell_type": "code",
      "execution_count": null,
      "metadata": {
        "collapsed": false
      },
      "outputs": [],
      "source": [
        "%matplotlib inline"
      ]
    },
    {
      "cell_type": "markdown",
      "metadata": {},
      "source": [
        "\n# Plotting a joint histogram\n\nIn this recipe, we will be creating a joint histogram of PM2.5 mass\nconcentration and 2-metre temperature.\n"
      ]
    },
    {
      "cell_type": "markdown",
      "metadata": {},
      "source": [
        "1. Import cf-python, numpy and matplotlib.pyplot:\n\n"
      ]
    },
    {
      "cell_type": "code",
      "execution_count": null,
      "metadata": {
        "collapsed": false
      },
      "outputs": [],
      "source": [
        "import matplotlib.pyplot as plt\nimport numpy as np\n\nimport cf"
      ]
    },
    {
      "cell_type": "markdown",
      "metadata": {},
      "source": [
        "2. Read the field constructs using read function:\n\n"
      ]
    },
    {
      "cell_type": "code",
      "execution_count": null,
      "metadata": {
        "collapsed": false
      },
      "outputs": [],
      "source": [
        "f = cf.read(\"~/recipes/levtype_sfc.nc\")\nprint(f)"
      ]
    },
    {
      "cell_type": "markdown",
      "metadata": {},
      "source": [
        "3. Select the PM2.5 mass concentration and 2-metre temperature fields by\nindex and print the description to show properties of all constructs:\n\n"
      ]
    },
    {
      "cell_type": "code",
      "execution_count": null,
      "metadata": {
        "collapsed": false
      },
      "outputs": [],
      "source": [
        "pm25_field = f[2]\npm25_field.dump()"
      ]
    },
    {
      "cell_type": "code",
      "execution_count": null,
      "metadata": {
        "collapsed": false
      },
      "outputs": [],
      "source": [
        "temp_field = f[3]\ntemp_field.dump()"
      ]
    },
    {
      "cell_type": "markdown",
      "metadata": {},
      "source": [
        "4. Convert the units to degree celsius for the temperature field:\n\n"
      ]
    },
    {
      "cell_type": "code",
      "execution_count": null,
      "metadata": {
        "collapsed": false
      },
      "outputs": [],
      "source": [
        "temp_field.units = \"degC\"\ntemp_field.get_property(\"units\")"
      ]
    },
    {
      "cell_type": "markdown",
      "metadata": {},
      "source": [
        "5. Digitize the PM2.5 mass concentration and 2-metre temperature fields.\nThis step counts the number of values in each of the 10 equally sized bins\nspanning the range of the values. The ``'return_bins=True'`` argument makes\nsure that the calculated bins are also returned:\n\n"
      ]
    },
    {
      "cell_type": "code",
      "execution_count": null,
      "metadata": {
        "collapsed": false
      },
      "outputs": [],
      "source": [
        "pm25_indices, pm25_bins = pm25_field.digitize(10, return_bins=True)\ntemp_indices, temp_bins = temp_field.digitize(10, return_bins=True)"
      ]
    },
    {
      "cell_type": "markdown",
      "metadata": {},
      "source": [
        "6. Create a joint histogram of the digitized fields:\n\n"
      ]
    },
    {
      "cell_type": "code",
      "execution_count": null,
      "metadata": {
        "collapsed": false
      },
      "outputs": [],
      "source": [
        "joint_histogram = cf.histogram(pm25_indices, temp_indices)"
      ]
    },
    {
      "cell_type": "markdown",
      "metadata": {},
      "source": [
        "7. Get histogram data from the ``joint_histogram``:\n\n"
      ]
    },
    {
      "cell_type": "code",
      "execution_count": null,
      "metadata": {
        "collapsed": false
      },
      "outputs": [],
      "source": [
        "histogram_data = joint_histogram.array"
      ]
    },
    {
      "cell_type": "markdown",
      "metadata": {},
      "source": [
        "8. Calculate bin centers for PM2.5 and temperature bins:\n\n"
      ]
    },
    {
      "cell_type": "code",
      "execution_count": null,
      "metadata": {
        "collapsed": false
      },
      "outputs": [],
      "source": [
        "pm25_bin_centers = [(a + b) / 2 for a, b in pm25_bins]\ntemp_bin_centers = [(a + b) / 2 for a, b in temp_bins]"
      ]
    },
    {
      "cell_type": "markdown",
      "metadata": {},
      "source": [
        "9. Create grids for PM2.5 and temperature bins using [numpy.meshgrid](https://numpy.org/doc/stable/reference/generated/numpy.meshgrid.html):\n\n"
      ]
    },
    {
      "cell_type": "code",
      "execution_count": null,
      "metadata": {
        "collapsed": false
      },
      "outputs": [],
      "source": [
        "temp_grid, pm25_grid = np.meshgrid(temp_bin_centers, pm25_bin_centers)"
      ]
    },
    {
      "cell_type": "markdown",
      "metadata": {},
      "source": [
        "10. Plot the joint histogram using [matplotlib.pyplot.pcolormesh](https://matplotlib.org/stable/api/_as_gen/\nmatplotlib.pyplot.pcolormesh.html). Use [cf.Field.unique](https://ncas-cms.github.io/cf-python/method/cf.Field.unique.html) to get\nthe unique data array values and show the bin boundaries as ticks on the\nplot. ``'style='plain'`` in [matplotlib.axes.Axes.ticklabel_format](https://matplotlib.org/stable/api/_as_gen/matplotlib.axes.Axes.ticklabel_format.html)\ndisables the scientific notation on the y-axis:\n\n"
      ]
    },
    {
      "cell_type": "code",
      "execution_count": null,
      "metadata": {
        "collapsed": false
      },
      "outputs": [],
      "source": [
        "plt.pcolormesh(temp_grid, pm25_grid, histogram_data, cmap=\"viridis\")\nplt.xlabel(\"2-metre Temperature (degC)\")\nplt.ylabel(\"PM2.5 Mass Concentration (kg m**-3)\")\nplt.xticks(temp_bins.unique().array, rotation=45)\nplt.yticks(pm25_bins.unique().array)\nplt.colorbar(label=\"Frequency\")\nplt.title(\"Joint Histogram of PM2.5 and 2-metre Temperature\", y=1.05)\nplt.ticklabel_format(style=\"plain\")\nplt.show()"
      ]
    }
  ],
  "metadata": {
    "kernelspec": {
      "display_name": "Python 3",
      "language": "python",
      "name": "python3"
    },
    "language_info": {
      "codemirror_mode": {
        "name": "ipython",
        "version": 3
      },
      "file_extension": ".py",
      "mimetype": "text/x-python",
      "name": "python",
      "nbconvert_exporter": "python",
      "pygments_lexer": "ipython3",
      "version": "3.10.9"
    }
  },
  "nbformat": 4,
  "nbformat_minor": 0
}