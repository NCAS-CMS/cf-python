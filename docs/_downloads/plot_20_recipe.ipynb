{
  "cells": [
    {
      "cell_type": "code",
      "execution_count": null,
      "metadata": {
        "collapsed": false
      },
      "outputs": [],
      "source": [
        "%matplotlib inline"
      ]
    },
    {
      "cell_type": "markdown",
      "metadata": {},
      "source": [
        "\n# Calculating and plotting the divergence of sea currents\n\nIn this recipe, we will calculate the divergence of depth-averaged\ncurrents in the Irish Sea, then plot the divergence as a contour\nfill plot underneath the vectors themselves in the form of a vector plot.\n"
      ]
    },
    {
      "cell_type": "markdown",
      "metadata": {},
      "source": [
        "1. Import cf-python and cf-plot:\n\n"
      ]
    },
    {
      "cell_type": "code",
      "execution_count": null,
      "metadata": {
        "collapsed": false
      },
      "outputs": [],
      "source": [
        "import cfplot as cfp\n\nimport cf"
      ]
    },
    {
      "cell_type": "markdown",
      "metadata": {},
      "source": [
        "2. Read the fields in. This dataset consists of depth-averaged eastward and\nnorthward current components plus the sea surface height above sea level and\nis a gridded dataset, with grid resolution of 1.85 km, covering the entire\nIrish Sea area. It was found via the CEDA Archive at the location of:\nhttps://catalogue.ceda.ac.uk/uuid/1b89e025eedd49e8976ee0721ec6e9b5, with\nDOI of https://dx.doi.org/10.5285/031e7ca1-9710-280d-e063-6c86abc014a0:\n\n"
      ]
    },
    {
      "cell_type": "code",
      "execution_count": null,
      "metadata": {
        "collapsed": false
      },
      "outputs": [],
      "source": [
        "f = cf.read(\"~/recipes/POLCOMS_WAM_ZUV_01_16012006.nc\")"
      ]
    },
    {
      "cell_type": "markdown",
      "metadata": {},
      "source": [
        "3. Get the separate vector components, which are stored as separate fields.\nThe first, 'u', corresponds to the eastward component and the second, 'v',\nthe northward component:\n\n"
      ]
    },
    {
      "cell_type": "code",
      "execution_count": null,
      "metadata": {
        "collapsed": false
      },
      "outputs": [],
      "source": [
        "u = f[0]\nv = f[1]"
      ]
    },
    {
      "cell_type": "markdown",
      "metadata": {},
      "source": [
        "4. Squeeze the fields to remove the size 1 axes in each case:\n\n"
      ]
    },
    {
      "cell_type": "code",
      "execution_count": null,
      "metadata": {
        "collapsed": false
      },
      "outputs": [],
      "source": [
        "u = u.squeeze()\nv = v.squeeze()"
      ]
    },
    {
      "cell_type": "markdown",
      "metadata": {},
      "source": [
        "5. Consider the currents at a set point in time. To do this we\nselect one of the 720 datetime sample points in the fields to\ninvestigate, in this case by subspacing to pick out a particular\ndatetime value we saw within the time coordinate data of the field (but\nyou could also use indexing or filtering to select a specific value).\nOnce we subspace to one datetime, we squeeze out the size 1 time axis\nin each case:\n\n"
      ]
    },
    {
      "cell_type": "code",
      "execution_count": null,
      "metadata": {
        "collapsed": false
      },
      "outputs": [],
      "source": [
        "chosen_time = \"2006-01-15 23:30:00\"  # 720 choices to pick from, try this one!\nu_1 = u.subspace(T=cf.dt(chosen_time))\nv_1 = v.subspace(T=cf.dt(chosen_time))\nu_1 = u_1.squeeze()\nv_1 = v_1.squeeze()"
      ]
    },
    {
      "cell_type": "markdown",
      "metadata": {},
      "source": [
        "6.\nWhen inspecting the u and v fields using cf inspection methods such as\nfrom print(u_1.data) and u_1.data.dump(), for example, we can see that there are\nlots of -9999 values in their data array, apparently used as a\nfill/placeholder value, including to indicate undefined data over the land.\nIn order for these to not skew the data and dominate the plot, we need\nto mask values matching this, so that only meaningful values remain.\n\n"
      ]
    },
    {
      "cell_type": "code",
      "execution_count": null,
      "metadata": {
        "collapsed": false
      },
      "outputs": [],
      "source": [
        "u_2 = u_1.where(cf.lt(-9000), cf.masked)\nv_2 = v_1.where(cf.lt(-9000), cf.masked)"
      ]
    },
    {
      "cell_type": "markdown",
      "metadata": {},
      "source": [
        "7. Calculate the divergence using the 'div_xy' function operating on the\nvector eastward and northward components as the first and second argument\nrespectively. We need to calculate this for the latitude-longitude plane\nof the Earth, defined in spherical polar coordinates, so we must specify\nthe Earth's radius for the appropriate calculation:\n\n"
      ]
    },
    {
      "cell_type": "code",
      "execution_count": null,
      "metadata": {
        "collapsed": false
      },
      "outputs": [],
      "source": [
        "div = cf.div_xy(u_2, v_2, radius=\"earth\")"
      ]
    },
    {
      "cell_type": "markdown",
      "metadata": {},
      "source": [
        "8. First we configure the overall plot by\nmaking the map higher resolution, to show the coastlines of the UK and\nIreland in greater detail, and changing the colourmap to better reflect\nthe data which can be positive or negative, i.e. has 0 as the 'middle'\nvalue of significance, so should use a diverging colour map.\n\n"
      ]
    },
    {
      "cell_type": "code",
      "execution_count": null,
      "metadata": {
        "collapsed": false
      },
      "outputs": [],
      "source": [
        "cfp.mapset(resolution=\"10m\")\ncfp.cscale(\"ncl_default\", ncols=21)"
      ]
    },
    {
      "cell_type": "markdown",
      "metadata": {},
      "source": [
        "9. Now generate the final plot. Plot the current vectors, noting we had\nto play around with the 'stride' and 'scale' parameter values to adjust\nthe vector spacing and size so that the vector field is best represented\nand visible without over-cluttering the plot. Finally we plot the\ndivergence as a contour plot without any lines showing. This compound\nplot is saved on one canvas using 'gopen' and 'gclose' to wrap the two\nplotting calls:\n\n"
      ]
    },
    {
      "cell_type": "code",
      "execution_count": null,
      "metadata": {
        "collapsed": false
      },
      "outputs": [],
      "source": [
        "cfp.gopen()\ncfp.vect(u=u_2, v=v_2, stride=6, scale=3, key_length=1)\ncfp.con(\n    div,\n    lines=False,\n    title=(\n        f\"Depth-averaged Irish Sea currents at {chosen_time} with \"\n        \"their divergence\"\n    ),\n)\ncfp.gclose()"
      ]
    }
  ],
  "metadata": {
    "kernelspec": {
      "display_name": "Python 3",
      "language": "python",
      "name": "python3"
    },
    "language_info": {
      "codemirror_mode": {
        "name": "ipython",
        "version": 3
      },
      "file_extension": ".py",
      "mimetype": "text/x-python",
      "name": "python",
      "nbconvert_exporter": "python",
      "pygments_lexer": "ipython3",
      "version": "3.11.11"
    }
  },
  "nbformat": 4,
  "nbformat_minor": 0
}