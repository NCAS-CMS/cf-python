{
  "cells": [
    {
      "cell_type": "code",
      "execution_count": null,
      "metadata": {
        "collapsed": false
      },
      "outputs": [],
      "source": [
        "%matplotlib inline"
      ]
    },
    {
      "cell_type": "markdown",
      "metadata": {},
      "source": [
        "\n# Converting from rotated latitude-longitude to regular latitude-longitude\n\nIn this recipe, we will be regridding from a rotated latitude-longitude source domain to a regular latitude-longitude destination domain.\n"
      ]
    },
    {
      "cell_type": "markdown",
      "metadata": {},
      "source": [
        "1. Import cf-python, cf-plot and numpy:\n\n"
      ]
    },
    {
      "cell_type": "code",
      "execution_count": null,
      "metadata": {
        "collapsed": false
      },
      "outputs": [],
      "source": [
        "import cfplot as cfp\n\nimport cf"
      ]
    },
    {
      "cell_type": "markdown",
      "metadata": {},
      "source": [
        "2. Read the field constructs using read function:\n\n"
      ]
    },
    {
      "cell_type": "code",
      "execution_count": null,
      "metadata": {
        "collapsed": false
      },
      "outputs": [],
      "source": [
        "f = cf.read(\"~/recipes/au952a.pd20510414.pp\")\nprint(f)"
      ]
    },
    {
      "cell_type": "markdown",
      "metadata": {},
      "source": [
        "3. Select the field by index and print its description to show properties of all constructs:\n\n"
      ]
    },
    {
      "cell_type": "code",
      "execution_count": null,
      "metadata": {
        "collapsed": false
      },
      "outputs": [],
      "source": [
        "gust = f[0]\ngust.dump()"
      ]
    },
    {
      "cell_type": "markdown",
      "metadata": {},
      "source": [
        "4. Access the time coordinate of the gust field and retrieve the datetime values of the time coordinate:\n\n"
      ]
    },
    {
      "cell_type": "code",
      "execution_count": null,
      "metadata": {
        "collapsed": false
      },
      "outputs": [],
      "source": [
        "print(gust.coordinate(\"time\").datetime_array)"
      ]
    },
    {
      "cell_type": "markdown",
      "metadata": {},
      "source": [
        "5. Create a new instance of the `cf.dt` class with a specified year, month, day, hour, minute, second and microsecond. Then store the result in the variable ``test``:\n\n"
      ]
    },
    {
      "cell_type": "code",
      "execution_count": null,
      "metadata": {
        "collapsed": false
      },
      "outputs": [],
      "source": [
        "test = cf.dt(2051, 4, 14, 1, 30, 0, 0)\nprint(test)"
      ]
    },
    {
      "cell_type": "markdown",
      "metadata": {},
      "source": [
        "6. Plot the wind gust by creating a subspace for the specified variable ``test`` using [cfplot.con](http://ajheaps.github.io/cf-plot/con.html). Here [cfplot.mapset](http://ajheaps.github.io/cf-plot/mapset.html) is used to set the mapping parameters like setting the map resolution to 50m:\n\n"
      ]
    },
    {
      "cell_type": "code",
      "execution_count": null,
      "metadata": {
        "collapsed": false
      },
      "outputs": [],
      "source": [
        "cfp.mapset(resolution=\"50m\")\ncfp.con(gust.subspace(T=test), lines=False)"
      ]
    },
    {
      "cell_type": "markdown",
      "metadata": {},
      "source": [
        "7. To see the rotated pole data on the native grid, the above steps are repeated and projection is set to rotated in [cfplot.mapset](http://ajheaps.github.io/cf-plot/mapset.html):\n\n"
      ]
    },
    {
      "cell_type": "code",
      "execution_count": null,
      "metadata": {
        "collapsed": false
      },
      "outputs": [],
      "source": [
        "cfp.mapset(resolution=\"50m\", proj=\"rotated\")\ncfp.con(gust.subspace(T=test), lines=False)"
      ]
    },
    {
      "cell_type": "markdown",
      "metadata": {},
      "source": [
        "8. Create dimension coordinates for the destination grid with the latitude and\nlongitude values for Europe. [cf.Domain.create_regular](https://ncas-cms.github.io/cf-python/docs/method/cf.Domain.create_regular.html)\nmethod is used to\ncreate a regular grid with longitudes and latitudes. Spherical regridding is\nthen performed on the gust variable by passing the target domain as argument.\nThe method also takes an argument ``'linear'`` which specifies the type of\nregridding method to use. The description of the ``regridded_data`` is finally\nprinted to show properties of all its constructs:\n\n"
      ]
    },
    {
      "cell_type": "code",
      "execution_count": null,
      "metadata": {
        "collapsed": false
      },
      "outputs": [],
      "source": [
        "target_domain = cf.Domain.create_regular((-25, 45, 10), (32, 72, 10))\nregridded_data = gust.regrids(target_domain, \"linear\")\nregridded_data.dump()"
      ]
    },
    {
      "cell_type": "markdown",
      "metadata": {},
      "source": [
        "9. Step 6 is similarly repeated for the ``regridded_data`` to plot the wind gust on a regular latitude-longitude domain:\n\n"
      ]
    },
    {
      "cell_type": "code",
      "execution_count": null,
      "metadata": {
        "collapsed": false
      },
      "outputs": [],
      "source": [
        "cfp.mapset(resolution=\"50m\")\ncfp.con(regridded_data.subspace(T=test), lines=False)"
      ]
    }
  ],
  "metadata": {
    "kernelspec": {
      "display_name": "Python 3",
      "language": "python",
      "name": "python3"
    },
    "language_info": {
      "codemirror_mode": {
        "name": "ipython",
        "version": 3
      },
      "file_extension": ".py",
      "mimetype": "text/x-python",
      "name": "python",
      "nbconvert_exporter": "python",
      "pygments_lexer": "ipython3",
      "version": "3.10.8"
    }
  },
  "nbformat": 4,
  "nbformat_minor": 0
}