{
  "cells": [
    {
      "cell_type": "code",
      "execution_count": null,
      "metadata": {
        "collapsed": false
      },
      "outputs": [],
      "source": [
        "%matplotlib inline"
      ]
    },
    {
      "cell_type": "markdown",
      "metadata": {},
      "source": [
        "\n# Plotting wind vectors overlaid on precipitation data\n\nIn this recipe we will plot wind vectors, derived from northward and eastward wind components, over precipitation data.\n"
      ]
    },
    {
      "cell_type": "markdown",
      "metadata": {},
      "source": [
        "1. Import cf-python and cf-plot:\n\n"
      ]
    },
    {
      "cell_type": "code",
      "execution_count": null,
      "metadata": {
        "collapsed": false
      },
      "outputs": [],
      "source": [
        "import cfplot as cfp\n\nimport cf"
      ]
    },
    {
      "cell_type": "markdown",
      "metadata": {},
      "source": [
        "2. Read the field constructs:\n\n"
      ]
    },
    {
      "cell_type": "code",
      "execution_count": null,
      "metadata": {
        "collapsed": false
      },
      "outputs": [],
      "source": [
        "f1 = cf.read(\"~/recipes/northward.nc\")\nprint(f1)"
      ]
    },
    {
      "cell_type": "code",
      "execution_count": null,
      "metadata": {
        "collapsed": false
      },
      "outputs": [],
      "source": [
        "f2 = cf.read(\"~/recipes/eastward.nc\")\nprint(f2)"
      ]
    },
    {
      "cell_type": "code",
      "execution_count": null,
      "metadata": {
        "collapsed": false
      },
      "outputs": [],
      "source": [
        "f3 = cf.read(\"~/recipes/monthly_precipitation.nc\")\nprint(f3)"
      ]
    },
    {
      "cell_type": "markdown",
      "metadata": {},
      "source": [
        "3. Select wind vectors and precipitation data by index and look at their contents:\n\n"
      ]
    },
    {
      "cell_type": "code",
      "execution_count": null,
      "metadata": {
        "collapsed": false
      },
      "outputs": [],
      "source": [
        "v = f1[0]\nprint(v)"
      ]
    },
    {
      "cell_type": "code",
      "execution_count": null,
      "metadata": {
        "collapsed": false
      },
      "outputs": [],
      "source": [
        "u = f2[0]\nprint(u)"
      ]
    },
    {
      "cell_type": "code",
      "execution_count": null,
      "metadata": {
        "collapsed": false
      },
      "outputs": [],
      "source": [
        "pre = f3[0]\nprint(pre)"
      ]
    },
    {
      "cell_type": "markdown",
      "metadata": {},
      "source": [
        "4. Plot the wind vectors on top of precipitation data for June 1995 by creating a subspace with a date-time object and using [cfplot.con](https://ncas-cms.github.io/cf-plot/build/con.html). Here [cfplot.gopen](https://ncas-cms.github.io/cf-plot/build/gopen.html) is used to define the parts of the plot area, which is closed by [cfplot.gclose](https://ncas-cms.github.io/cf-plot/build/gclose.html); [cfplot.cscale](https://ncas-cms.github.io/cf-plot/build/cscale.html) is used to choose one of the colour maps amongst many available; [cfplot.levs](https://ncas-cms.github.io/cf-plot/build/levs.html) is used to set the contour levels for precipitation data; and [cfplot.vect](https://ncas-cms.github.io/cf-plot/build/vect.html) is used to plot the wind vectors for June 1995:\n\n"
      ]
    },
    {
      "cell_type": "code",
      "execution_count": null,
      "metadata": {
        "collapsed": false
      },
      "outputs": [],
      "source": [
        "june_95 = cf.year(1995) & cf.month(6)\ncfp.gopen()\ncfp.cscale(\"precip4_11lev\")\ncfp.levs(step=100)\ncfp.con(\n    pre.subspace(T=june_95),\n    lines=False,\n    title=\"June 1995 monthly global precipitation\",\n)\ncfp.vect(\n    u=u.subspace(T=june_95),\n    v=v.subspace(T=june_95),\n    key_length=10,\n    scale=35,\n    stride=5,\n)\ncfp.gclose()"
      ]
    }
  ],
  "metadata": {
    "kernelspec": {
      "display_name": "Python 3",
      "language": "python",
      "name": "python3"
    },
    "language_info": {
      "codemirror_mode": {
        "name": "ipython",
        "version": 3
      },
      "file_extension": ".py",
      "mimetype": "text/x-python",
      "name": "python",
      "nbconvert_exporter": "python",
      "pygments_lexer": "ipython3",
      "version": "3.11.11"
    }
  },
  "nbformat": 4,
  "nbformat_minor": 0
}