{
  "cells": [
    {
      "cell_type": "code",
      "execution_count": null,
      "metadata": {
        "collapsed": false
      },
      "outputs": [],
      "source": [
        "%matplotlib inline"
      ]
    },
    {
      "cell_type": "markdown",
      "metadata": {},
      "source": [
        "\n# Plotting statistically significant temperature trends with stippling\n\nIn this recipe, we will analyse and plot temperature trends from the HadCRUT.5.0.1.0 dataset for two different time periods. The plotted maps also include stippling, which is used to highlight areas where the temperature trends are statistically significant.\n"
      ]
    },
    {
      "cell_type": "markdown",
      "metadata": {},
      "source": [
        "1. Import cf-python, cf-plot, numpy and scipy.stats:\n\n"
      ]
    },
    {
      "cell_type": "code",
      "execution_count": null,
      "metadata": {
        "collapsed": false
      },
      "outputs": [],
      "source": [
        "import cfplot as cfp\nimport numpy as np\nimport scipy.stats as stats\n\nimport cf"
      ]
    },
    {
      "cell_type": "markdown",
      "metadata": {},
      "source": [
        "2. Three functions are defined:\n\n"
      ]
    },
    {
      "cell_type": "markdown",
      "metadata": {},
      "source": [
        "* ``linear_trend(data, time_axis)``: This function calculates the linear regression slope and p-value for the input data along the time axis. It takes two arguments: ``'data'``, which represents the temperature anomalies or any other data you want to analyse, and ``'time_axis'``, which represents the corresponding time points for the data. The function uses the [stats.linregress](https://docs.scipy.org/doc/scipy/reference/generated/scipy.stats.linregress.html) method from the [scipy.stats](https://docs.scipy.org/doc/scipy/reference/stats.html) library to calculate the slope and p-value of the linear regression. It returns these two values as a tuple:\n\n"
      ]
    },
    {
      "cell_type": "code",
      "execution_count": null,
      "metadata": {
        "collapsed": false
      },
      "outputs": [],
      "source": [
        "def linear_trend(data, time_axis):\n    slope, _, _, p_value, _ = stats.linregress(time_axis, data)\n    return slope, p_value"
      ]
    },
    {
      "cell_type": "markdown",
      "metadata": {},
      "source": [
        "* ``create_trend_stipple_obj(temp_data, input_data)``: This function creates a new object with the input data provided and *collapses* the time dimension by taking the mean. It takes two arguments: ``'temp_data'``, which represents the temperature data object, and ``'input_data'``, which is the data to be set in the new object. The function creates a copy of the ``'temp_data'`` object by selecting the first element using index and *squeezes* it to remove the size 1 axis. It then sets the input data with the ``'Y'`` (latitude) and ``'X'`` (longitude) axes, and then *collapses* the time dimension using the ``\"T: mean\"`` operation:\n\n"
      ]
    },
    {
      "cell_type": "code",
      "execution_count": null,
      "metadata": {
        "collapsed": false
      },
      "outputs": [],
      "source": [
        "def create_trend_stipple_obj(temp_data, input_data):\n    trend_stipple_obj = temp_data[0].squeeze()\n    trend_stipple_obj.set_data(input_data, axes=[\"Y\", \"X\"])\n    return trend_stipple_obj"
      ]
    },
    {
      "cell_type": "markdown",
      "metadata": {},
      "source": [
        "* ``process_subsets(subset_mask)``: This function processes the subsets of data by applying the ``linear_trend`` function along a specified axis. It takes one argument, ``'subset_mask'``, which is a boolean mask representing the time points to be considered in the analysis. The function first extracts the masked subset of data and then applies the ``linear_trend`` function along the time axis (axis 0) using the [numpy.ma.apply_along_axis](https://numpy.org/doc/stable/reference/generated/numpy.ma.apply_along_axis.html) function. The result is an array containing the slope and p-value for each grid point in the dataset:\n\n"
      ]
    },
    {
      "cell_type": "code",
      "execution_count": null,
      "metadata": {
        "collapsed": false
      },
      "outputs": [],
      "source": [
        "def process_subsets(subset_mask):\n    subset_data = masked_data[subset_mask, :, :]\n    return np.ma.apply_along_axis(\n        linear_trend, 0, subset_data, time_axis[subset_mask]\n    )"
      ]
    },
    {
      "cell_type": "markdown",
      "metadata": {},
      "source": [
        "3. Read the field constructs:\n\n"
      ]
    },
    {
      "cell_type": "code",
      "execution_count": null,
      "metadata": {
        "collapsed": false
      },
      "outputs": [],
      "source": [
        "temperature_data = cf.read(\n    \"~/recipes/HadCRUT.5.0.1.0.analysis.anomalies.ensemble_mean.nc\"\n)[0]\nprint(temperature_data)"
      ]
    },
    {
      "cell_type": "markdown",
      "metadata": {},
      "source": [
        "4. Calculate the annual mean temperature anomalies. The ``'weights=True'`` argument is used take the varying lengths of months into account which ensures that the calculated mean is more accurate. A masked array is created for the annual mean temperature anomalies, masking any invalid values:\n\n"
      ]
    },
    {
      "cell_type": "code",
      "execution_count": null,
      "metadata": {
        "collapsed": false
      },
      "outputs": [],
      "source": [
        "annual_temperature = temperature_data.collapse(\n    \"T: mean\", weights=True, group=cf.Y()\n)\ntime_axis = annual_temperature.coordinate(\"T\").year.array\nmasked_data = np.ma.masked_invalid(annual_temperature.array)"
      ]
    },
    {
      "cell_type": "markdown",
      "metadata": {},
      "source": [
        "5. Define two time periods for analysis: 1850-2020 and 1980-2020, along with a significance level (alpha) of 0.05:\n\n"
      ]
    },
    {
      "cell_type": "code",
      "execution_count": null,
      "metadata": {
        "collapsed": false
      },
      "outputs": [],
      "source": [
        "time_periods = [(1850, 2020, \"sub_1850_2020\"), (1980, 2020, \"sub_1980_2020\")]\nalpha = 0.05\nresults = {}"
      ]
    },
    {
      "cell_type": "markdown",
      "metadata": {},
      "source": [
        "6. Loop through the time periods, processing the subsets, calculating trend p-values, and creating stipple objects. For each time period, the script calculates the trends and p-values using the ``process_subsets`` function. If the p-value is less than the significance level (alpha = 0.05), a stippling mask is created. The script then creates a new object for the trend and stippling mask using the ``create_trend_stipple_obj`` function:\n\n"
      ]
    },
    {
      "cell_type": "code",
      "execution_count": null,
      "metadata": {
        "collapsed": false
      },
      "outputs": [],
      "source": [
        "for start, end, prefix in time_periods:\n    subset_mask = (time_axis >= start) & (time_axis <= end)\n    subset_trend_pvalue = process_subsets(subset_mask)\n    results[prefix + \"_trend_pvalue\"] = subset_trend_pvalue\n    results[prefix + \"_stipple\"] = subset_trend_pvalue[1] < alpha\n    results[prefix + \"_trend\"] = create_trend_stipple_obj(\n        temperature_data, subset_trend_pvalue[0]\n    )\n    results[prefix + \"_stipple_obj\"] = create_trend_stipple_obj(\n        temperature_data, results[prefix + \"_stipple\"]\n    )"
      ]
    },
    {
      "cell_type": "markdown",
      "metadata": {},
      "source": [
        "7. Create two plots - one for the 1850-2020 time period and another for the 1980-2020 time period using [cfplot.con](http://ajheaps.github.io/cf-plot/con.html).\nThe results are multiplied by 10 so that each plot displays the temperature trend in K/decade with stippling to indicate areas where the trend is statistically significant (p-value < 0.05).\nHere [cfplot.gopen](http://ajheaps.github.io/cf-plot/gopen.html) is used to define the parts of the plot area with two rows and one column, and setting the bottom margin to 0.2.\nIt is closed by [cfplot.gclose](http://ajheaps.github.io/cf-plot/gclose.html);\n[cfplot.gpos](http://ajheaps.github.io/cf-plot/gpos.html) is used to set the plotting position of both the plots;\n[cfplot.mapset](http://ajheaps.github.io/cf-plot/mapset.html) is used to set the map projection to Robinson;\n[cfplot.cscale](http://ajheaps.github.io/cf-plot/cscale.html) is used to choose one of the colour maps amongst many available;\n[cfplot.levs](http://ajheaps.github.io/cf-plot/levs.html) is used to set the contour levels;\nand [cfplot.stipple](http://ajheaps.github.io/cf-plot/stipple.html) is used to add stippling to show statistically significant areas:\n\n"
      ]
    },
    {
      "cell_type": "code",
      "execution_count": null,
      "metadata": {
        "collapsed": false
      },
      "outputs": [],
      "source": [
        "cfp.gopen(rows=2, columns=1, bottom=0.2)\n\ncfp.gpos(1)\ncfp.mapset(proj=\"robin\")\ncfp.cscale(\"temp_19lev\")\ncfp.levs(min=-1, max=1, step=0.1)\ncfp.con(\n    results[\"sub_1850_2020_trend\"] * 10,\n    lines=False,\n    colorbar=None,\n    title=\"Temperature Trend 1850-2020\",\n)\ncfp.stipple(\n    results[\"sub_1850_2020_stipple_obj\"],\n    min=1,\n    max=1,\n    size=5,\n    color=\"k\",\n    marker=\".\",\n)\n\ncfp.gpos(2)\ncfp.mapset(proj=\"robin\")\ncfp.cscale(\"temp_19lev\")\ncfp.levs(min=-1, max=1, step=0.1)\ncfp.con(\n    results[\"sub_1980_2020_trend\"] * 10,\n    lines=False,\n    title=\"Temperature Trend 1980-2020\",\n    colorbar_position=[0.1, 0.1, 0.8, 0.02],\n    colorbar_orientation=\"horizontal\",\n    colorbar_title=\"K/decade\",\n)\ncfp.stipple(\n    results[\"sub_1980_2020_stipple_obj\"],\n    min=1,\n    max=1,\n    size=5,\n    color=\"k\",\n    marker=\".\",\n)\n\ncfp.gclose()"
      ]
    }
  ],
  "metadata": {
    "kernelspec": {
      "display_name": "Python 3",
      "language": "python",
      "name": "python3"
    },
    "language_info": {
      "codemirror_mode": {
        "name": "ipython",
        "version": 3
      },
      "file_extension": ".py",
      "mimetype": "text/x-python",
      "name": "python",
      "nbconvert_exporter": "python",
      "pygments_lexer": "ipython3",
      "version": "3.10.9"
    }
  },
  "nbformat": 4,
  "nbformat_minor": 0
}