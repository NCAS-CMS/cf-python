{
  "cells": [
    {
      "cell_type": "code",
      "execution_count": null,
      "metadata": {
        "collapsed": false
      },
      "outputs": [],
      "source": [
        "%matplotlib inline"
      ]
    },
    {
      "cell_type": "markdown",
      "metadata": {},
      "source": [
        "\n# Plotting contour subplots with different colour maps/scales\n\nIn this recipe, we will plot the same data with different colour maps from\nthree categories in separate subplots to illustrate the importance of\nchoosing a suitable one for given data. To avoid unintended bias and\nmisrepresentation, or lack of accessibility, a careful choice must be made.\n\nisort:skip_file\n"
      ]
    },
    {
      "cell_type": "markdown",
      "metadata": {},
      "source": [
        "1. Import cf-python and cf-plot:\n\n"
      ]
    },
    {
      "cell_type": "code",
      "execution_count": null,
      "metadata": {
        "collapsed": false
      },
      "outputs": [],
      "source": [
        "import matplotlib.pyplot as plt\nimport cfplot as cfp\n\nimport cf"
      ]
    },
    {
      "cell_type": "markdown",
      "metadata": {},
      "source": [
        "2. Read the field in:\n\n"
      ]
    },
    {
      "cell_type": "code",
      "execution_count": null,
      "metadata": {
        "collapsed": false
      },
      "outputs": [],
      "source": [
        "f = cf.read(\"~/recipes/ggap.nc\")[0]"
      ]
    },
    {
      "cell_type": "markdown",
      "metadata": {},
      "source": [
        "3. Choose a set of predefined colour scales to view. These can be chosen\nfrom the selection at:\nhttps://ncas-cms.github.io/cf-plot/build/colour_scales.html or you\ncan define your own, see:\nhttps://ncas-cms.github.io/cf-plot/build/colour_scales.html#user-defined-colour-scales.\nHere we take three colour scales each from three different general\ncategories, to showcase some differences in representation.\nNote colour scale levels can be adjusted using 'cscale' and keywords such as:\ncfp.cscale(<cmap name>, ncols=16, below=2, above=14)\n\n"
      ]
    },
    {
      "cell_type": "markdown",
      "metadata": {},
      "source": [
        "a. Perceptually uniform colour scales, with no zero value, see:\nhttps://ncas-cms.github.io/cf-plot/build/colour_scales.html#perceptually-uniform-colour-scales.\n\n"
      ]
    },
    {
      "cell_type": "code",
      "execution_count": null,
      "metadata": {
        "collapsed": false
      },
      "outputs": [],
      "source": [
        "colour_scales_pu = [\"viridis\", \"magma\", \"plasma\"]"
      ]
    },
    {
      "cell_type": "markdown",
      "metadata": {},
      "source": [
        "b. NCAR Command Language colour scales enhanced to help with colour\nblindness, see:\nhttps://ncas-cms.github.io/cf-plot/build/colour_scales.html#ncar-command-language-enhanced-to-help-with-colour-blindness.\nThese colour maps are better for accessibility.\n\n"
      ]
    },
    {
      "cell_type": "code",
      "execution_count": null,
      "metadata": {
        "collapsed": false
      },
      "outputs": [],
      "source": [
        "colour_scales_ncl = [\"posneg_1\", \"GreenMagenta16\", \"StepSeq25\"]"
      ]
    },
    {
      "cell_type": "markdown",
      "metadata": {},
      "source": [
        "c. Orography/bathymetry colour scales, see:\nhttps://ncas-cms.github.io/cf-plot/build/colour_scales.html#orography-bathymetry-colour-scales.\nThese are used to show the shape/contour of land masses, but bear in mind the\ndata we show here is air temperature so doesn't represent this and\ntherefore it is not a good choice in this case:\n\n"
      ]
    },
    {
      "cell_type": "code",
      "execution_count": null,
      "metadata": {
        "collapsed": false
      },
      "outputs": [],
      "source": [
        "colour_scales_ob = [\"wiki_1_0_2\", \"wiki_2_0\", \"wiki_2_0_reduced\"]"
      ]
    },
    {
      "cell_type": "markdown",
      "metadata": {},
      "source": [
        "4. We plot each category of colourmap in a given columns of the subplot,\nbut given the 'gpos' function positions subplots from left to right, row by\nrow from the top, we need to interleave the values in a list. We can use\nzip to do this:\n\n"
      ]
    },
    {
      "cell_type": "code",
      "execution_count": null,
      "metadata": {
        "collapsed": false
      },
      "outputs": [],
      "source": [
        "colour_scales_columns = [\n    cscale\n    for category in zip(colour_scales_pu, colour_scales_ncl, colour_scales_ob)\n    for cscale in category\n]"
      ]
    },
    {
      "cell_type": "markdown",
      "metadata": {},
      "source": [
        "5. Create the figure and give it an overall title. Ensure the\nnumber of rows * number of columns = number of colour scales.\nThen we loop through all the different colour maps defined and plot\nas subplots, with each category in the same column, labelling each column\nwith the colour scale category:\n\n"
      ]
    },
    {
      "cell_type": "code",
      "execution_count": null,
      "metadata": {
        "collapsed": false
      },
      "outputs": [],
      "source": [
        "cfp.gopen(rows=3, columns=3, bottom=0.1, top=0.85)\nplt.suptitle(\n    (\n        \"Air temperature (K) at 850 mbar pressure shown in different \"\n        \"categories of colour scale\"\n    ),\n    fontsize=18,\n)\nfor i, colour_scale in enumerate(colour_scales_columns):\n    cfp.gpos(i + 1)\n    cfp.cscale(colour_scale, ncols=15)\n\n    # For the topmost plots, label the column with the colour scale category\n    # using the 'title' argument, otherwise don't add a title.\n    # Ensure the order the titles are written in corresponds to the\n    # order unzipped in step 4, so the columns match up correctly.\n    if i == 0:\n        set_title = \"Perceptually uniform\\ncolour maps\"\n    elif i == 1:\n        set_title = \"NCL colour maps enhanced to \\nhelp with colour blindness\"\n    elif i == 2:\n        set_title = \"Orography/bathymetry\\ncolour maps\"\n    else:\n        set_title = \"\"\n\n    cfp.con(\n        f.subspace(pressure=850),\n        title=set_title,\n        lines=False,\n        axes=False,\n        colorbar_drawedges=False,\n        colorbar_title=f\"Shown in '{colour_scale}'\",\n        colorbar_fraction=0.04,\n        colorbar_thick=0.02,\n        colorbar_fontsize=11,\n    )\ncfp.gclose()"
      ]
    }
  ],
  "metadata": {
    "kernelspec": {
      "display_name": "Python 3",
      "language": "python",
      "name": "python3"
    },
    "language_info": {
      "codemirror_mode": {
        "name": "ipython",
        "version": 3
      },
      "file_extension": ".py",
      "mimetype": "text/x-python",
      "name": "python",
      "nbconvert_exporter": "python",
      "pygments_lexer": "ipython3",
      "version": "3.11.11"
    }
  },
  "nbformat": 4,
  "nbformat_minor": 0
}