{
  "cells": [
    {
      "cell_type": "code",
      "execution_count": null,
      "metadata": {
        "collapsed": false
      },
      "outputs": [],
      "source": [
        "%matplotlib inline"
      ]
    },
    {
      "cell_type": "markdown",
      "metadata": {},
      "source": [
        "\n# Plotting the Warming Stripes\n\nIn this recipe, we will plot the [Warming Stripes (Climate Stripes)](https://en.wikipedia.org/wiki/Warming_stripes) created by\nProfessor Ed Hawkins at NCAS, University of Reading. Here we will use the\nensemble mean of the\n[HadCRUT.5.0.1.0 analysis gridded data](https://www.metoffice.gov.uk/hadobs/hadcrut5/data/current/download.html) for\nthe same.\n"
      ]
    },
    {
      "cell_type": "markdown",
      "metadata": {},
      "source": [
        "1. Import cf-python and matplotlib.pyplot:\n\n"
      ]
    },
    {
      "cell_type": "code",
      "execution_count": null,
      "metadata": {
        "collapsed": false
      },
      "outputs": [],
      "source": [
        "import matplotlib.pyplot as plt\n\nimport cf"
      ]
    },
    {
      "cell_type": "markdown",
      "metadata": {},
      "source": [
        "2. Read the field constructs:\n\n"
      ]
    },
    {
      "cell_type": "code",
      "execution_count": null,
      "metadata": {
        "collapsed": false
      },
      "outputs": [],
      "source": [
        "temperature_data = cf.read(\n    \"~/recipes/HadCRUT.5.0.1.0.analysis.anomalies.ensemble_mean.nc\"\n)[0]\nprint(temperature_data)"
      ]
    },
    {
      "cell_type": "markdown",
      "metadata": {},
      "source": [
        "3. Calculate the annual mean temperature anomalies. The ``'weights=True'``\nargument is used to take the varying lengths of months into account which\nensures that the calculated mean is more accurate:\n\n"
      ]
    },
    {
      "cell_type": "code",
      "execution_count": null,
      "metadata": {
        "collapsed": false
      },
      "outputs": [],
      "source": [
        "annual_temperature = temperature_data.collapse(\n    \"T: mean\", weights=True, group=cf.Y()\n)"
      ]
    },
    {
      "cell_type": "markdown",
      "metadata": {},
      "source": [
        "4. Select the data from 1850 to 2022:\n\n"
      ]
    },
    {
      "cell_type": "code",
      "execution_count": null,
      "metadata": {
        "collapsed": false
      },
      "outputs": [],
      "source": [
        "period = annual_temperature.subspace(T=cf.year(cf.wi(1850, 2022)))"
      ]
    },
    {
      "cell_type": "markdown",
      "metadata": {},
      "source": [
        "5. Calculate the global average temperature for each year:\n\n"
      ]
    },
    {
      "cell_type": "code",
      "execution_count": null,
      "metadata": {
        "collapsed": false
      },
      "outputs": [],
      "source": [
        "global_temperature = period.collapse(\"X: Y: mean\")"
      ]
    },
    {
      "cell_type": "markdown",
      "metadata": {},
      "source": [
        "6. Get the global average temperature and squeeze it to remove the size 1 axis:\n\n"
      ]
    },
    {
      "cell_type": "code",
      "execution_count": null,
      "metadata": {
        "collapsed": false
      },
      "outputs": [],
      "source": [
        "global_avg_temp = global_temperature.array.squeeze()"
      ]
    },
    {
      "cell_type": "markdown",
      "metadata": {},
      "source": [
        "7. Create a normalization function that maps the interval from the minimum to\nthe maximum temperature to the interval [0, 1] for colouring:\n\n"
      ]
    },
    {
      "cell_type": "code",
      "execution_count": null,
      "metadata": {
        "collapsed": false
      },
      "outputs": [],
      "source": [
        "norm_global = plt.Normalize(global_avg_temp.min(), global_avg_temp.max())"
      ]
    },
    {
      "cell_type": "markdown",
      "metadata": {},
      "source": [
        "8. Set the colormap instance:\n\n"
      ]
    },
    {
      "cell_type": "code",
      "execution_count": null,
      "metadata": {
        "collapsed": false
      },
      "outputs": [],
      "source": [
        "cmap = plt.get_cmap(\"RdBu_r\")"
      ]
    },
    {
      "cell_type": "markdown",
      "metadata": {},
      "source": [
        "9. Create the figure and the axes for the global plot. Loop over the selected\nyears, plot a colored vertical stripe for each and remove the axes:\n\n"
      ]
    },
    {
      "cell_type": "code",
      "execution_count": null,
      "metadata": {
        "collapsed": false
      },
      "outputs": [],
      "source": [
        "fig_global, ax_global = plt.subplots(figsize=(10, 2))\n\nfor i in range(global_avg_temp.shape[0]):\n    ax_global.axvspan(\n        xmin=i - 0.5, xmax=i + 0.5, color=cmap(norm_global(global_avg_temp[i]))\n    )\n\nax_global.axis(\"off\")\n\nplt.show()"
      ]
    },
    {
      "cell_type": "markdown",
      "metadata": {},
      "source": [
        "10. For the regional warming stripes, steps 5 to 9 are repeated for the\nspecific region. Here, we define the bounding box for UK by subspacing over\na domain spanning 49.9 to 59.4 degrees north and -10.5 to 1.8 degrees east:\n\n"
      ]
    },
    {
      "cell_type": "code",
      "execution_count": null,
      "metadata": {
        "collapsed": false
      },
      "outputs": [],
      "source": [
        "uk_temperature = period.subspace(X=cf.wi(-10.5, 1.8), Y=cf.wi(49.9, 59.4))\nuk_avg_temperature = uk_temperature.collapse(\"X: Y: mean\")\nuk_avg_temp = uk_avg_temperature.array.squeeze()\nnorm_uk = plt.Normalize(uk_avg_temp.min(), uk_avg_temp.max())"
      ]
    },
    {
      "cell_type": "code",
      "execution_count": null,
      "metadata": {
        "collapsed": false
      },
      "outputs": [],
      "source": [
        "fig_uk, ax_uk = plt.subplots(figsize=(10, 2))\n\nfor i in range(uk_avg_temp.shape[0]):\n    ax_uk.axvspan(\n        xmin=i - 0.5, xmax=i + 0.5, color=cmap(norm_uk(uk_avg_temp[i]))\n    )\n\nax_uk.axis(\"off\")\n\nplt.show()"
      ]
    }
  ],
  "metadata": {
    "kernelspec": {
      "display_name": "Python 3",
      "language": "python",
      "name": "python3"
    },
    "language_info": {
      "codemirror_mode": {
        "name": "ipython",
        "version": 3
      },
      "file_extension": ".py",
      "mimetype": "text/x-python",
      "name": "python",
      "nbconvert_exporter": "python",
      "pygments_lexer": "ipython3",
      "version": "3.10.9"
    }
  },
  "nbformat": 4,
  "nbformat_minor": 0
}