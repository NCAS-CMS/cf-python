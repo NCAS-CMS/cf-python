{
  "cells": [
    {
      "cell_type": "code",
      "execution_count": null,
      "metadata": {
        "collapsed": false
      },
      "outputs": [],
      "source": [
        "%matplotlib inline"
      ]
    },
    {
      "cell_type": "markdown",
      "metadata": {},
      "source": [
        "\n# Resampling Land Use Flags to a Coarser Grid\n\nIn this recipe, we will compare the land use distribution in different countries\nusing a land use data file and visualize the data as a histogram. This will help\nto understand the proportion of different land use categories in each country.\n\nThe land use data is initially available at a high spatial resolution of\napproximately 100 m, with several flags defined with numbers representing the\ntype of land use. Regridding the data to a coarser resolution of approximately\n25 km would incorrectly represent the flags on the new grids.\n\nTo avoid this, we will resample the data to the coarser resolution by\naggregating the data within predefined spatial regions or bins. This approach\nwill give a dataset where each 25 km grid cell contains a histogram of land use\nflags, as determined by the original 100 m resolution data. It retains the\noriginal spatial extent of the data while reducing its spatial complexity.\nRegridding, on the other hand, involves interpolating the data onto a new grid,\nwhich can introduce artifacts and distortions in the data.\n"
      ]
    },
    {
      "cell_type": "code",
      "execution_count": null,
      "metadata": {
        "collapsed": false
      },
      "outputs": [],
      "source": [
        "import cartopy.io.shapereader as shpreader\nimport matplotlib.pyplot as plt\nimport numpy as np"
      ]
    },
    {
      "cell_type": "markdown",
      "metadata": {},
      "source": [
        "1. Import the required libraries. We will use Cartopy's ``shapereader`` to\nwork with shapefiles that define country boundaries:\n\n"
      ]
    },
    {
      "cell_type": "code",
      "execution_count": null,
      "metadata": {
        "collapsed": false
      },
      "outputs": [],
      "source": [
        "import cf"
      ]
    },
    {
      "cell_type": "markdown",
      "metadata": {},
      "source": [
        "2. Read and select land use data by index and see properties of all construcs:\n\n"
      ]
    },
    {
      "cell_type": "code",
      "execution_count": null,
      "metadata": {
        "collapsed": false
      },
      "outputs": [],
      "source": [
        "f = cf.read(\"~/recipes/output.tif.nc\")[0]\nf.dump()"
      ]
    },
    {
      "cell_type": "markdown",
      "metadata": {},
      "source": [
        "3. Define a function to extract data for a specific country:\n\n- The ``extract_data`` function is defined to extract land use data for a\n  specific country, specified by the ``country_name`` parameter.\n- It uses the [Natural Earth](https://www.naturalearthdata.com/downloads/110m-cultural-vectors/110m-admin-0-countries/)\n  shapefile to get the bounding coordinates of the selected country.\n- The [shpreader.natural_earth](https://scitools.org.uk/cartopy/docs/v0.15/tutorials/using_the_shapereader.html#cartopy.io.shapereader.natural_earth)\n  function is called to access the Natural\n  Earth shapefile of country boundaries with a resolution of 10 m.\n- The [shpreader.Reader](https://scitools.org.uk/cartopy/docs/v0.15/tutorials/using_the_shapereader.html#cartopy.io.shapereader.Reader)\n  function reads the shapefile, and the selected country's record is retrieved\n  by filtering the records based on the ``NAME_LONG`` attribute.\n- The bounding coordinates are extracted using the ``bounds`` attribute of the\n  selected country record.\n- The land use data file is then read and subset using these bounding\n  coordinates with the help of the ``subspace`` function. The subset data is\n  stored in the ``f`` variable.\n\n"
      ]
    },
    {
      "cell_type": "code",
      "execution_count": null,
      "metadata": {
        "collapsed": false
      },
      "outputs": [],
      "source": [
        "def extract_data(country_name):\n    shpfilename = shpreader.natural_earth(\n        resolution=\"10m\", category=\"cultural\", name=\"admin_0_countries\"\n    )\n    reader = shpreader.Reader(shpfilename)\n    country = [\n        country\n        for country in reader.records()\n        if country.attributes[\"NAME_LONG\"] == country_name\n    ][0]\n    lon_min, lat_min, lon_max, lat_max = country.bounds\n\n    f = cf.read(\"~/recipes/output.tif.nc\")[0]\n    f = f.subspace(X=cf.wi(lon_min, lon_max), Y=cf.wi(lat_min, lat_max))\n\n    return f"
      ]
    },
    {
      "cell_type": "markdown",
      "metadata": {},
      "source": [
        "4. Define a function to plot a histogram of land use distribution for a\nspecific country:\n\n- The [digitize](https://ncas-cms.github.io/cf-python/method/cf.Field.digitize.html)\n  function of the ``cf.Field`` object is called to convert the land use data\n  into indices of bins. It takes an array of bins (defined by\n  the [np.linspace](https://numpy.org/doc/stable/reference/generated/numpy.linspace.html) function)\n  and the ``return_bins=True`` parameter, which returns the actual bin values\n  along with the digitized data.\n- The [np.linspace](https://numpy.org/doc/stable/reference/generated/numpy.linspace.html)\n  function is used to create an array of evenly spaced bin edges from 0 to 50,\n  with 51 total values. This creates bins of width 1.\n- The ``digitized`` variable contains the bin indices for each data point,\n  while the bins variable contains the actual bin values.\n- The [cf.histogram](https://ncas-cms.github.io/cf-python/function/cf.histogram.html)\n  function is called on the digitized data to create a histogram. This\n  function returns a field object with the histogram data.\n- The [squeeze](https://ncas-cms.github.io/cf-python/method/cf.Field.squeeze.html)\n  function applied to the histogram ``array`` extracts the histogram data as a NumPy\n  array and removes any single dimensions.\n- The ``total_valid_sub_cells`` variable calculates the total number of valid\n  subcells (non-missing data points) by summing the histogram data.\n- The last element of the bin_counts array is removed with slicing\n  (``bin_counts[:-1]``) to match the length of the ``bin_indices`` array.\n- The ``percentages`` variable calculates the percentage of each bin by\n  dividing the ``bin_counts`` by the ``total_valid_sub_cells`` and multiplying\n  by 100.\n- The ``bin_indices`` variable calculates the center of each bin by averaging\n  the bin edges. This is done by adding the ``bins.array[:-1, 0]`` and\n  ``bins.array[1:, 0]`` arrays and dividing by 2.\n- The ``ax.bar`` function is called to plot the histogram as a bar chart on\n  the provided axis. The x-axis values are given by the ``bin_indices`` array,\n  and the y-axis values are given by the ``percentages`` array.\n- The title, x-axis label, y-axis label, and axis limits are set based on the\n  input parameters.\n\n"
      ]
    },
    {
      "cell_type": "code",
      "execution_count": null,
      "metadata": {
        "collapsed": false
      },
      "outputs": [],
      "source": [
        "def plot_histogram(field, ax, label, ylim, xlim):\n    digitized, bins = field.digitize(np.linspace(0, 50, 51), return_bins=True)\n\n    h = cf.histogram(digitized)\n    bin_counts = h.array.squeeze()\n\n    total_valid_sub_cells = bin_counts.sum()\n\n    bin_counts = bin_counts[:-1]\n\n    percentages = bin_counts / total_valid_sub_cells * 100\n\n    bin_indices = (bins.array[:-1, 0] + bins.array[1:, 0]) / 2\n\n    ax.bar(bin_indices, percentages, label=label)\n    ax.set_title(label)\n    ax.set_xlabel(\"Land Use Flag\")\n    ax.set_ylabel(\"Percentage\")\n    ax.set_ylim(ylim)\n    ax.set_xlim(xlim)"
      ]
    },
    {
      "cell_type": "markdown",
      "metadata": {},
      "source": [
        "5. Define the countries of interest:\n\n"
      ]
    },
    {
      "cell_type": "code",
      "execution_count": null,
      "metadata": {
        "collapsed": false
      },
      "outputs": [],
      "source": [
        "countries = [\"Ireland\", \"Belgium\", \"Switzerland\"]"
      ]
    },
    {
      "cell_type": "markdown",
      "metadata": {},
      "source": [
        "6. Set up the figure and axes for plotting the histograms:\n\n- The ``plt.subplots`` function is called to set up a figure with three\n  subplots, with a figure size of 8 inches by 10 inches.\n- A loop iterates over each country in the countries list and for each\n  country, the ``extract_data`` function is called to extract its land use\n  data.\n- The ``plot_histogram`` function is then called to plot the histogram of land\n  use distribution on the corresponding subplot.\n- The ``plt.tight_layout`` function is called to ensure that the subplots are\n  properly spaced within the figure and finally, the ``plt.show`` function\n  displays the figure with the histograms.\n\n"
      ]
    },
    {
      "cell_type": "code",
      "execution_count": null,
      "metadata": {
        "collapsed": false
      },
      "outputs": [],
      "source": [
        "fig, axs = plt.subplots(3, 1, figsize=(8, 10))\n\nfor i, country in enumerate(countries):\n    ax = axs[i]\n    data = extract_data(country)\n    plot_histogram(data, ax, label=country, ylim=(0, 50), xlim=(0, 50))\n\nplt.tight_layout()\nplt.show()"
      ]
    }
  ],
  "metadata": {
    "kernelspec": {
      "display_name": "Python 3",
      "language": "python",
      "name": "python3"
    },
    "language_info": {
      "codemirror_mode": {
        "name": "ipython",
        "version": 3
      },
      "file_extension": ".py",
      "mimetype": "text/x-python",
      "name": "python",
      "nbconvert_exporter": "python",
      "pygments_lexer": "ipython3",
      "version": "3.10.13"
    }
  },
  "nbformat": 4,
  "nbformat_minor": 0
}