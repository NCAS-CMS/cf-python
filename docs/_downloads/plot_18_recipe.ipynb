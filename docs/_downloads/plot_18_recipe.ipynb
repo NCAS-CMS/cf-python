{
  "cells": [
    {
      "cell_type": "code",
      "execution_count": null,
      "metadata": {
        "collapsed": false
      },
      "outputs": [],
      "source": [
        "%matplotlib inline"
      ]
    },
    {
      "cell_type": "markdown",
      "metadata": {},
      "source": [
        "\n# Calculating the Pearson correlation coefficient between datasets\n\nIn this recipe, we will take two datasets, one for an independent variable\n(in this example elevation) and one for a dependent variable (snow\ncover over a particular day), regrid them to the same resolution then\ncalculate the correlation coefficient, to get a measure of the relationship\nbetween them.\n\nisort:skip_file\n"
      ]
    },
    {
      "cell_type": "markdown",
      "metadata": {},
      "source": [
        "1. Import cf-python, cf-plot and other required packages:\n\n"
      ]
    },
    {
      "cell_type": "code",
      "execution_count": null,
      "metadata": {
        "collapsed": false
      },
      "outputs": [],
      "source": [
        "import matplotlib.pyplot as plt\nimport scipy.stats.mstats as mstats\nimport cfplot as cfp\n\nimport cf"
      ]
    },
    {
      "cell_type": "markdown",
      "metadata": {},
      "source": [
        "2. Read the data in and unpack the Fields from FieldLists using indexing.\nIn our example We are investigating the influence of the land height on\nthe snow cover extent, so snow cover is the dependent variable. The snow\ncover data is the\n'Snow Cover Extent 2017-present (raster 500 m), Europe, daily \u2013 version 1'\nsourced from the Copernicus Land Monitoring Service which is described at:\nhttps://land.copernicus.eu/en/products/snow/snow-cover-extent-europe-v1-0-500m\nand the elevation data is the 'NOAA NGDC GLOBE topo: elevation data' dataset\nwhich can be sourced from the IRI Data Library, or details found, at:\nhttp://iridl.ldeo.columbia.edu/SOURCES/.NOAA/.NGDC/.GLOBE/.topo/index.html.\n\n"
      ]
    },
    {
      "cell_type": "code",
      "execution_count": null,
      "metadata": {
        "collapsed": false
      },
      "outputs": [],
      "source": [
        "orog = cf.read(\"~/recipes/1km_elevation.nc\")[0]\nsnow = cf.read(\"~/recipes/snowcover\")[0]"
      ]
    },
    {
      "cell_type": "markdown",
      "metadata": {},
      "source": [
        "3. Choose the day of pre-aggregated snow cover to investigate. We will\ntake the first datetime element corresponding to the first day from the\ndatasets, 1st January 2024, but by changing the indexing you can explore\nother days by changing the index. We also get the string corresponding to\nthe date, to reference later:\n\n"
      ]
    },
    {
      "cell_type": "code",
      "execution_count": null,
      "metadata": {
        "collapsed": false
      },
      "outputs": [],
      "source": [
        "snow_day = snow[0]\nsnow_day_dt = snow_day.coordinate(\"time\")[0].data\nsnow_day_daystring = f\"{snow_day_dt.datetime_as_string[0].split(' ')[0]}\""
      ]
    },
    {
      "cell_type": "markdown",
      "metadata": {},
      "source": [
        "4. Choose the region to consider to compare the relationship across,\nwhich must be defined across both datasets, though not necessarily on the\nsame grid since we regrid to the same grid next and subspace to the same\narea for both datasets ready for comparison in the next steps. By changing\nthe latitude and longitude points in the tuple below, you can change the\narea that is used:\n\n"
      ]
    },
    {
      "cell_type": "code",
      "execution_count": null,
      "metadata": {
        "collapsed": false
      },
      "outputs": [],
      "source": [
        "region_in_mid_uk = ((-3.0, -1.0), (52.0, 55.0))\nsub_orog = orog.subspace(\n    longitude=cf.wi(*region_in_mid_uk[0]), latitude=cf.wi(*region_in_mid_uk[1])\n)\nsub_snow = snow_day.subspace(\n    longitude=cf.wi(*region_in_mid_uk[0]), latitude=cf.wi(*region_in_mid_uk[1])\n)"
      ]
    },
    {
      "cell_type": "markdown",
      "metadata": {},
      "source": [
        "5. Ensure data quality, since the standard name here corresponds to a\nunitless fraction, but the values are in the tens, so we need to\nnormalise these to all lie between 0 and 1 and change the units\nappropriately:\n\n"
      ]
    },
    {
      "cell_type": "code",
      "execution_count": null,
      "metadata": {
        "collapsed": false
      },
      "outputs": [],
      "source": [
        "sub_snow = (sub_snow - sub_snow.minimum()) / (sub_snow.range())\nsub_snow.override_units(\"1\", inplace=True)"
      ]
    },
    {
      "cell_type": "markdown",
      "metadata": {},
      "source": [
        "6. Regrid the data so that they lie on the same grid and therefore each\narray structure has values with corresponding geospatial points that\ncan be statistically compared. Here the elevation field is regridded to the\nsnow field since the snow is higher-resolution, but the other way round is\npossible by switching the field order:\n\n"
      ]
    },
    {
      "cell_type": "code",
      "execution_count": null,
      "metadata": {
        "collapsed": false
      },
      "outputs": [],
      "source": [
        "regridded_orog = sub_orog.regrids(sub_snow, method=\"linear\")"
      ]
    },
    {
      "cell_type": "markdown",
      "metadata": {},
      "source": [
        "7. Squeeze the snow data to remove the size 1 axes so we have arrays of\nthe same dimensions for each of the two fields to compare:\n\n"
      ]
    },
    {
      "cell_type": "code",
      "execution_count": null,
      "metadata": {
        "collapsed": false
      },
      "outputs": [],
      "source": [
        "sub_snow = sub_snow.squeeze()"
      ]
    },
    {
      "cell_type": "markdown",
      "metadata": {},
      "source": [
        "8. Finally, perform the statistical calculation by using the SciPy method\nto find the Pearson correlation coefficient for the two arrays now they are\nin comparable form. Note we need to use 'scipy.stats.mstats' and not\n'scipy.stats' for the 'pearsonr' method, to account for masked\ndata in the array(s) properly:\n\n"
      ]
    },
    {
      "cell_type": "code",
      "execution_count": null,
      "metadata": {
        "collapsed": false
      },
      "outputs": [],
      "source": [
        "coefficient = mstats.pearsonr(regridded_orog.array, sub_snow.array)\nprint(f\"The Pearson correlation coefficient is: {coefficient}\")"
      ]
    },
    {
      "cell_type": "markdown",
      "metadata": {},
      "source": [
        "9. Make a final plot showing the two arrays side-by-side and quoting the\ndetermined Pearson correlation coefficient to illustrate the relationship\nand its strength visually. We use 'gpos' to position the plots in two\ncolumns and apply some specific axes ticks and labels for clarity.\n\n"
      ]
    },
    {
      "cell_type": "code",
      "execution_count": null,
      "metadata": {
        "collapsed": false
      },
      "outputs": [],
      "source": [
        "cfp.gopen(\n    rows=1,\n    columns=2,\n    top=0.85,\n    user_position=True,\n)\n\n# Joint configuration of the plots, including adding an overall title\nplt.suptitle(\n    (\n        \"Snow cover compared to elevation for the same area of the UK \"\n        f\"aggregated across\\n day {snow_day_daystring} with correlation \"\n        \"coefficient (on the same grid) of \"\n        f\"{coefficient.statistic:.4g} (4 s.f.)\"\n    ),\n    fontsize=17,\n)\ncfp.mapset(resolution=\"10m\")\ncfp.setvars(ocean_color=\"white\", lake_color=\"white\")\nlabel_info = {\n    \"xticklabels\": (\"3W\", \"2W\", \"1W\"),\n    \"yticklabels\": (\"52N\", \"53N\", \"54N\", \"55N\"),\n    \"xticks\": (-3, -2, -1),\n    \"yticks\": (52, 53, 54, 55),\n}\n\n# Plot the two contour plots as columns\ncfp.gpos(1)\ncfp.cscale(\"wiki_2_0_reduced\", ncols=11)\ncfp.con(\n    regridded_orog,\n    lines=False,\n    title=\"Elevation (from 1km-resolution orography)\",\n    colorbar_drawedges=False,\n    **label_info,\n)\ncfp.gpos(2)\n# Don't add extentions on the colourbar since it can only be 0 to 1 inclusive\ncfp.levs(min=0, max=1, step=0.1, extend=\"neither\")\ncfp.cscale(\"precip_11lev\", ncols=11, reverse=1)\ncfp.con(\n    sub_snow,\n    lines=False,\n    title=\"Snow cover extent (from satellite imagery)\",\n    colorbar_drawedges=False,\n    **label_info,\n)\ncfp.gclose()"
      ]
    }
  ],
  "metadata": {
    "kernelspec": {
      "display_name": "Python 3",
      "language": "python",
      "name": "python3"
    },
    "language_info": {
      "codemirror_mode": {
        "name": "ipython",
        "version": 3
      },
      "file_extension": ".py",
      "mimetype": "text/x-python",
      "name": "python",
      "nbconvert_exporter": "python",
      "pygments_lexer": "ipython3",
      "version": "3.11.11"
    }
  },
  "nbformat": 4,
  "nbformat_minor": 0
}