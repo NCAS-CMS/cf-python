{
  "cells": [
    {
      "cell_type": "code",
      "execution_count": null,
      "metadata": {
        "collapsed": false
      },
      "outputs": [],
      "source": [
        "%matplotlib inline"
      ]
    },
    {
      "cell_type": "markdown",
      "metadata": {},
      "source": [
        "\n# Overlay Geopotential height contours over Temperature anomalies\n\nIn this recipe, we will overlay Geopotential height contours over Temperature\nanomalies to help analyse meteorological conditions during July 2018,\nspecifically focusing on the significant concurrent extreme events that occurred\nduring the 2018 boreal spring/summer season in the Northern Hemisphere.\n"
      ]
    },
    {
      "cell_type": "markdown",
      "metadata": {},
      "source": [
        "1. Import cf-python and cf-plot:\n\n"
      ]
    },
    {
      "cell_type": "code",
      "execution_count": null,
      "metadata": {
        "collapsed": false
      },
      "outputs": [],
      "source": [
        "import cfplot as cfp\n\nimport cf"
      ]
    },
    {
      "cell_type": "markdown",
      "metadata": {},
      "source": [
        "2. Read and select the 200 hpa geopotential by index and look at its contents:\n\n"
      ]
    },
    {
      "cell_type": "code",
      "execution_count": null,
      "metadata": {
        "collapsed": false
      },
      "outputs": [],
      "source": [
        "gp = cf.read(\"~/recipes/ERA5_monthly_averaged_z200.nc\")[0]\nprint(gp)"
      ]
    },
    {
      "cell_type": "markdown",
      "metadata": {},
      "source": [
        "3. Convert the geopotential data to geopotential height by dividing it by the\nacceleration due to gravity (approximated as 9.81 $m \\cdot {s}^{-2}$):\n\n"
      ]
    },
    {
      "cell_type": "code",
      "execution_count": null,
      "metadata": {
        "collapsed": false
      },
      "outputs": [],
      "source": [
        "gph = gp / 9.81"
      ]
    },
    {
      "cell_type": "markdown",
      "metadata": {},
      "source": [
        "4. Subset the geopotential height to extract data specifically for July 2018,\na significant month due to heat extremes and heavy rainfall:\n\n"
      ]
    },
    {
      "cell_type": "code",
      "execution_count": null,
      "metadata": {
        "collapsed": false
      },
      "outputs": [],
      "source": [
        "gph_july = gph.subspace(T=cf.month(7) & cf.year(2018)).squeeze()"
      ]
    },
    {
      "cell_type": "markdown",
      "metadata": {},
      "source": [
        "5. Plot contour lines of this geopotential height for July 2018. Here:\n\n- [cfplot.gopen](http://ajheaps.github.io/cf-plot/gopen.html) is used to\n  define the parts of the plot area, which is closed by\n  [cfplot.gclose](http://ajheaps.github.io/cf-plot/gclose.html);\n- [cfplot.mapset](https://ajheaps.github.io/cf-plot/mapset.html) is used to\n  set the map projection to North Polar Stereographic;\n- [cfplot.setvars](http://ajheaps.github.io/cf-plot/setvars.html) is used to\n  set various attributes of the plot, like setting the thickness of the lines\n  that represent continents;\n- [cfplot.con](http://ajheaps.github.io/cf-plot/con.html) plots the contour\n  lines representing the 200 hpa geopotential height values without filling\n  between the contour lines (``fill=False``) and no colour bar\n  (``colorbar=False``);\n- [cfplot.levs](https://ajheaps.github.io/cf-plot/levs.html) is used to\n  specify two contour levels, 12000 and 12300 m, corresponding to the\n  approximate polar-front jet and subtropical jet respectively;\n- [cfplot.con](http://ajheaps.github.io/cf-plot/con.html) is again used to\n  plot the contour lines for polar-front jet and subtropical jet with a\n  thicker line width;\n- [cfp.plotvars.mymap.stock_img()](https://scitools.org.uk/cartopy/docs/v0.15/matplotlib/geoaxes.html#cartopy.mpl.geoaxes.GeoAxes.stock_img)\n  then finally visualises the Earth's surface in cf-plot's\n  ``cfp.plotvars.mymap`` plot object:\n\n"
      ]
    },
    {
      "cell_type": "code",
      "execution_count": null,
      "metadata": {
        "collapsed": false
      },
      "outputs": [],
      "source": [
        "cfp.gopen()\ncfp.mapset(proj=\"npstere\")\ncfp.setvars(continent_thickness=0.5)\n\ncfp.con(\n    f=gph_july,\n    fill=False,\n    lines=True,\n    line_labels=False,\n    colors=\"black\",\n    linewidths=1,\n    colorbar=False,\n)\n\ncfp.levs(manual=[12000, 12300])\ncfp.con(\n    f=gph_july,\n    fill=False,\n    lines=True,\n    colors=\"black\",\n    linewidths=3.0,\n    colorbar=False,\n)\n\ncfp.plotvars.mymap.stock_img()\ncfp.gclose()"
      ]
    },
    {
      "cell_type": "markdown",
      "metadata": {},
      "source": [
        "6. Read and select the 2-metre temperature by index and look at its contents:\n\n"
      ]
    },
    {
      "cell_type": "code",
      "execution_count": null,
      "metadata": {
        "collapsed": false
      },
      "outputs": [],
      "source": [
        "t2m = cf.read(\"~/recipes/ERA5_monthly_averaged_t2m.nc\")[0]\nprint(t2m)"
      ]
    },
    {
      "cell_type": "markdown",
      "metadata": {},
      "source": [
        "7. Set the units from Kelvin to degrees Celsius:\n\n"
      ]
    },
    {
      "cell_type": "code",
      "execution_count": null,
      "metadata": {
        "collapsed": false
      },
      "outputs": [],
      "source": [
        "t2m.Units = cf.Units(\"degreesC\")"
      ]
    },
    {
      "cell_type": "markdown",
      "metadata": {},
      "source": [
        "8. Extract a subset for July across the years for ``t2m``:\n\n"
      ]
    },
    {
      "cell_type": "code",
      "execution_count": null,
      "metadata": {
        "collapsed": false
      },
      "outputs": [],
      "source": [
        "t2m_july = t2m.subspace(T=cf.month(7))"
      ]
    },
    {
      "cell_type": "markdown",
      "metadata": {},
      "source": [
        "9. The 2-meter temperature climatology is then calculated for the month of\nJuly over the period from 1981 to 2010, which provides a baseline against\nwhich anomalies in later years are compared:\n\n"
      ]
    },
    {
      "cell_type": "code",
      "execution_count": null,
      "metadata": {
        "collapsed": false
      },
      "outputs": [],
      "source": [
        "t2m_july_climatology = t2m_july.subspace(\n    T=cf.year(cf.wi(1981, 2010))\n).collapse(\"T: mean\")"
      ]
    },
    {
      "cell_type": "markdown",
      "metadata": {},
      "source": [
        "10. Calculate the temperature anomaly for the month of July in the year 2018\nrelative to the climatological baseline (``t2m_july_climatology``). This\nindicates how much the temperatures for that month in that year deviated from\nthe long-term average for July across the 1981-2010 period:\n\n"
      ]
    },
    {
      "cell_type": "code",
      "execution_count": null,
      "metadata": {
        "collapsed": false
      },
      "outputs": [],
      "source": [
        "t2m_july_anomaly_2018 = (\n    t2m_july.subspace(T=cf.year(2018)).squeeze() - t2m_july_climatology\n)"
      ]
    },
    {
      "cell_type": "markdown",
      "metadata": {},
      "source": [
        "11.\nThe July 2018 season experienced extreme heat in many parts of the Northern\nHemisphere. This period's extreme events were related to unusual\nmeteorological conditions, particularly abnormalities in the jet stream. To\nprovide an insight into the atmospheric conditions, the temperature anomalies\nand the geopotential height contours are plotted using cf-plot. Here:\n\n- [cfplot.gopen](http://ajheaps.github.io/cf-plot/gopen.html) is used to\n  define the parts of the plot area, which is closed by\n  [cfplot.gclose](http://ajheaps.github.io/cf-plot/gclose.html);\n- [cfplot.mapset](https://ajheaps.github.io/cf-plot/mapset.html) is used to\n  set the map projection to Robinson;\n- [cfplot.setvars](http://ajheaps.github.io/cf-plot/setvars.html) is used to\n  set various attributes of the plot, like setting the thickness of the lines\n  that represent continents and master title properties;\n- [cfplot.levs](https://ajheaps.github.io/cf-plot/levs.html) is used to\n  specify the contour levels for temperature anomalies, starting from -2 to 2\n  with an interval of 0.5;\n- [cfplot.cscale](http://ajheaps.github.io/cf-plot/cscale.html) is used to\n  choose one of the colour maps amongst many available;\n- [cfplot.con](http://ajheaps.github.io/cf-plot/con.html) plots contour fill\n  of temperature anomalies without contour lines (``lines=False``);\n- [cfplot.levs()](https://ajheaps.github.io/cf-plot/levs.html) is used to\n  reset contour levels to default after which the steps to plot the contour\n  lines representing the 200 hpa geopotential height values, the approximate\n  polar-front jet and subtropical jet from Step 5 are repeated:\n\n"
      ]
    },
    {
      "cell_type": "code",
      "execution_count": null,
      "metadata": {
        "collapsed": false
      },
      "outputs": [],
      "source": [
        "cfp.gopen()\ncfp.mapset(proj=\"robin\")\ncfp.setvars(\n    continent_thickness=0.5,\n    master_title=\"July 2018\",\n    master_title_fontsize=22,\n    master_title_location=[0.53, 0.83],\n)\n\ncfp.levs(min=-2, max=2, step=0.5)\ncfp.cscale(\"temp_19lev\")\ncfp.con(\n    f=t2m_july_anomaly_2018,\n    lines=False,\n    colorbar_title=\"Temperature anomaly relative to 1981-2010 ($\\degree C$)\",\n    colorbar_fontsize=13,\n    colorbar_thick=0.04,\n)\n\ncfp.levs()\ncfp.con(\n    f=gph_july,\n    fill=False,\n    lines=True,\n    line_labels=False,\n    colors=\"black\",\n    linewidths=1,\n    colorbar=False,\n)\n\ncfp.levs(manual=[12000, 12300])\ncfp.con(\n    f=gph_july,\n    fill=False,\n    lines=True,\n    colors=\"black\",\n    linewidths=3.0,\n    colorbar=False,\n)\n\ncfp.gclose()"
      ]
    }
  ],
  "metadata": {
    "kernelspec": {
      "display_name": "Python 3",
      "language": "python",
      "name": "python3"
    },
    "language_info": {
      "codemirror_mode": {
        "name": "ipython",
        "version": 3
      },
      "file_extension": ".py",
      "mimetype": "text/x-python",
      "name": "python",
      "nbconvert_exporter": "python",
      "pygments_lexer": "ipython3",
      "version": "3.10.8"
    }
  },
  "nbformat": 4,
  "nbformat_minor": 0
}