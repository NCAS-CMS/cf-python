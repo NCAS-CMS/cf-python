{
  "cells": [
    {
      "cell_type": "code",
      "execution_count": null,
      "metadata": {
        "collapsed": false
      },
      "outputs": [],
      "source": [
        "%matplotlib inline"
      ]
    },
    {
      "cell_type": "markdown",
      "metadata": {},
      "source": [
        "\n# Calculate and plot the Ni\u00f1o 3.4 Index\n\nIn this recipe, we will calculate and plot the sea surface temperature (SST)\nanomaly in the Ni\u00f1o 3.4 region. According to [NCAR Climate Data Guide](https://climatedataguide.ucar.edu/climate-data/nino-sst-indices-nino-12-3-34-4-oni-and-tni),\nthe Ni\u00f1o 3.4 anomalies may be thought of as representing the average equatorial\nSSTs across the Pacific from about the dateline to the South American coast.\nThe Ni\u00f1o 3.4 index typically uses a 5-month running mean, and El Ni\u00f1o or La\nNi\u00f1a events are defined when the Ni\u00f1o 3.4 SSTs exceed +/- 0.4 degrees Celsius for a\nperiod of six months or more.\n"
      ]
    },
    {
      "cell_type": "markdown",
      "metadata": {},
      "source": [
        "1. Import cf-python and cf-plot:\n\n"
      ]
    },
    {
      "cell_type": "code",
      "execution_count": null,
      "metadata": {
        "collapsed": false
      },
      "outputs": [],
      "source": [
        "import cfplot as cfp\n\nimport cf"
      ]
    },
    {
      "cell_type": "markdown",
      "metadata": {},
      "source": [
        "2. Read and select the SST by index and look at its contents:\n\n"
      ]
    },
    {
      "cell_type": "code",
      "execution_count": null,
      "metadata": {
        "collapsed": false
      },
      "outputs": [],
      "source": [
        "sst = cf.read(\"~/recipes/ERA5_monthly_averaged_SST.nc\")[0]\nprint(sst)"
      ]
    },
    {
      "cell_type": "markdown",
      "metadata": {},
      "source": [
        "3. Set the units from Kelvin to degrees Celsius:\n\n"
      ]
    },
    {
      "cell_type": "code",
      "execution_count": null,
      "metadata": {
        "collapsed": false
      },
      "outputs": [],
      "source": [
        "sst.Units = cf.Units(\"degreesC\")"
      ]
    },
    {
      "cell_type": "markdown",
      "metadata": {},
      "source": [
        "4. SST is subspaced for the Ni\u00f1o 3.4 region (5N-5S, 170W-120W) and as the\ndataset is using longitudes in 0-360 degrees East format, they are subtracted\nfrom 360 to convert them:\n\n"
      ]
    },
    {
      "cell_type": "code",
      "execution_count": null,
      "metadata": {
        "collapsed": false
      },
      "outputs": [],
      "source": [
        "region = sst.subspace(X=cf.wi(360 - 170, 360 - 120), Y=cf.wi(-5, 5))"
      ]
    },
    {
      "cell_type": "markdown",
      "metadata": {},
      "source": [
        "5. Plot the various Ni\u00f1o regions using cf-plot. Here:\n\n- [cfplot.gopen](http://ajheaps.github.io/cf-plot/gopen.html) is used to\n  define the parts of the plot area, which is closed by\n  [cfplot.gclose](http://ajheaps.github.io/cf-plot/gclose.html);\n- [cfplot.mapset](https://ajheaps.github.io/cf-plot/mapset.html) is used to\n  set the map limits and projection;\n- [cfplot.setvars](http://ajheaps.github.io/cf-plot/setvars.html) is used to\n  set various attributes of the plot, like setting the land colour to grey;\n- [cfplot.cscale](http://ajheaps.github.io/cf-plot/cscale.html) is used to\n  choose one of the colour maps amongst many available;\n- [cfplot.con](http://ajheaps.github.io/cf-plot/con.html) plots contour data\n  from the ``region`` subspace at a specific time with no contour lines and a\n  title;\n- next, four Ni\u00f1o regions and labels are defined using\n  [Matplotlib's Rectangle](https://matplotlib.org/stable/api/_as_gen/matplotlib.patches.Rectangle.html)\n  and\n  [Text](https://matplotlib.org/stable/api/_as_gen/matplotlib.pyplot.text.html)\n  function with cf-plot plot object (``cfp.plotvars.plot``):\n\n"
      ]
    },
    {
      "cell_type": "code",
      "execution_count": null,
      "metadata": {
        "collapsed": false
      },
      "outputs": [],
      "source": [
        "import cartopy.crs as ccrs\nimport matplotlib.patches as mpatches\n\ncfp.gopen()\ncfp.mapset(proj=\"cyl\", lonmin=0, lonmax=360, latmin=-90, latmax=90)\ncfp.setvars(land_color=\"grey\")\ncfp.cscale(scale=\"scale1\")\ncfp.con(\n    region.subspace(T=cf.dt(2022, 12, 1, 0, 0, 0, 0)),\n    lines=False,\n    title=\"Ni\u00f1o Index Regions\",\n)\n\n# Ni\u00f1o 3.4 region(5N-5S, 170W-120W):\nrectangle = mpatches.Rectangle(\n    (-170, -5),\n    50,\n    10,\n    fill=False,\n    linewidth=1,\n    edgecolor=\"black\",\n    transform=ccrs.PlateCarree(),\n)\ncfp.plotvars.mymap.add_patch(rectangle)\ncfp.plotvars.mymap.text(\n    -145,\n    7,\n    \"3.4\",\n    horizontalalignment=\"center\",\n    fontsize=14,\n    weight=\"bold\",\n    transform=ccrs.PlateCarree(),\n)\n\n# Ni\u00f1o 1+2 region (0-10S, 90W-80W):\nrectangle = mpatches.Rectangle(\n    (-90, 0),\n    10,\n    10,\n    hatch=\"**\",\n    fill=False,\n    linewidth=1,\n    edgecolor=\"black\",\n    alpha=0.3,\n    transform=ccrs.PlateCarree(),\n)\ncfp.plotvars.mymap.add_patch(rectangle)\ncfp.plotvars.mymap.text(\n    -85,\n    3,\n    \"1+2\",\n    horizontalalignment=\"center\",\n    fontsize=8,\n    weight=\"bold\",\n    transform=ccrs.PlateCarree(),\n)\n\n# Ni\u00f1o 3 region (5N-5S, 150W-90W):\nrectangle = mpatches.Rectangle(\n    (-150, -5),\n    60,\n    10,\n    hatch=\"xxx\",\n    fill=False,\n    linewidth=1,\n    edgecolor=\"black\",\n    alpha=0.3,\n    transform=ccrs.PlateCarree(),\n)\ncfp.plotvars.mymap.add_patch(rectangle)\ncfp.plotvars.mymap.text(\n    -120,\n    -3,\n    \"3\",\n    horizontalalignment=\"center\",\n    fontsize=14,\n    weight=\"bold\",\n    transform=ccrs.PlateCarree(),\n)\n\n# Ni\u00f1o 4 region (5N-5S, 160E-150W):\nrectangle = mpatches.Rectangle(\n    (-200, -5),\n    50,\n    10,\n    hatch=\"oo\",\n    fill=False,\n    linewidth=1,\n    edgecolor=\"black\",\n    alpha=0.3,\n    transform=ccrs.PlateCarree(),\n)\ncfp.plotvars.mymap.add_patch(rectangle)\ncfp.plotvars.mymap.text(\n    -175,\n    -3,\n    \"4\",\n    horizontalalignment=\"center\",\n    fontsize=14,\n    weight=\"bold\",\n    transform=ccrs.PlateCarree(),\n)\ncfp.gclose()"
      ]
    },
    {
      "cell_type": "markdown",
      "metadata": {},
      "source": [
        "6. Calculate the Ni\u00f1o 3.4 index and standardize it to create an anomaly index.\nThe [collapse](https://ncas-cms.github.io/cf-python/method/cf.Field.collapse.html)\nmethod is used to calculate the mean over the longitude (X) and latitude (Y)\ndimensions:\n\n"
      ]
    },
    {
      "cell_type": "code",
      "execution_count": null,
      "metadata": {
        "collapsed": false
      },
      "outputs": [],
      "source": [
        "nino34_index = region.collapse(\"X: Y: mean\")"
      ]
    },
    {
      "cell_type": "markdown",
      "metadata": {},
      "source": [
        "7. The result, ``nino34_index``, represents the average SST in the defined\nNi\u00f1o 3.4 region for each time step. In the variable ``base_period``,\n``nino34_index`` is subset to only include data from the years 1961 to 1990.\nThis period is often used as a reference period for calculating anomalies.\nThe variables ``climatology`` and ``std_dev`` include the mean and the\nstandard deviation over the time (T) dimension of the ``base_period`` data\nrespectively:\n\n"
      ]
    },
    {
      "cell_type": "code",
      "execution_count": null,
      "metadata": {
        "collapsed": false
      },
      "outputs": [],
      "source": [
        "base_period = nino34_index.subspace(T=cf.year(cf.wi(1961, 1990)))\nclimatology = base_period.collapse(\"T: mean\")\nstd_dev = base_period.collapse(\"T: sd\")"
      ]
    },
    {
      "cell_type": "markdown",
      "metadata": {},
      "source": [
        "8. The line for variable ``nino34_anomaly`` calculates the standardized\nanomaly for each time step in the ``nino34_index`` data. It subtracts the\n``climatology`` from the ``nino34_index`` and then divides by the ``std_dev``.\nThe resulting ``nino34_anomaly`` data represents how much the SST in the Ni\u00f1o\n3.4 region deviates from the 1961-1990 average, in units of standard\ndeviations. This is a common way to quantify climate anomalies like El Ni\u00f1o\nand La Ni\u00f1a events:\n\n"
      ]
    },
    {
      "cell_type": "code",
      "execution_count": null,
      "metadata": {
        "collapsed": false
      },
      "outputs": [],
      "source": [
        "nino34_anomaly = (nino34_index - climatology) / std_dev"
      ]
    },
    {
      "cell_type": "markdown",
      "metadata": {},
      "source": [
        "9. A moving average of the ``nino34_anomaly`` along the time axis, with a\nwindow size of 5 (i.e. an approximately 5-month moving average) is calculated\nusing the\n[moving_window](https://ncas-cms.github.io/cf-python/method/cf.Field.moving_window.html)\nmethod. The ``mode='nearest'`` parameter is used to specify how to pad the\ndata outside of the time range. The resulting ``nino34_rolling`` variable\nrepresents a smoothed version of the ``nino34_anomaly`` data. It removes\nshort-term fluctuations and highlights longer-term trends or cycles:\n\n"
      ]
    },
    {
      "cell_type": "code",
      "execution_count": null,
      "metadata": {
        "collapsed": false
      },
      "outputs": [],
      "source": [
        "nino34_rolling = nino34_anomaly.moving_window(\n    method=\"mean\", window_size=5, axis=\"T\", mode=\"nearest\"\n)"
      ]
    },
    {
      "cell_type": "markdown",
      "metadata": {},
      "source": [
        "10. Define El Ni\u00f1o and La Ni\u00f1a events by creating Boolean masks to identify\nEl Ni\u00f1o and La Ni\u00f1a events. Now plot SST anomalies in the Ni\u00f1o 3.4 region over\ntime using cf-plot. Here:\n\n- [cfplot.gset](http://ajheaps.github.io/cf-plot/gset.html) sets the limits\n  of the x-axis (years from 1940 to 2022) and y-axis (anomalies from -3\n  degrees C to 3 degrees C) for the plot;\n- [cfplot.gopen](http://ajheaps.github.io/cf-plot/gopen.html) is used to\n  define the parts of the plot area, which is closed by\n  [cfplot.gclose](http://ajheaps.github.io/cf-plot/gclose.html);\n- [cfplot.lineplot](http://ajheaps.github.io/cf-plot/lineplot.html) plots\n  the rolling Ni\u00f1o 3.4 index over time;\n- a zero line and also horizontal dashed lines are drawn for El Ni\u00f1o and\n  La Ni\u00f1a thresholds using\n  [Matplotlib's axhline](https://matplotlib.org/stable/api/_as_gen/matplotlib.pyplot.axhline.html)\n  with cf-plot plot object (``cfp.plotvars.plot``);\n- [fill_between](https://matplotlib.org/stable/api/_as_gen/matplotlib.pyplot.fill_between.html)\n  from Matplotlib is used with cf-plot plot object (``cfp.plotvars.plot``)\n  to fill the area between the Ni\u00f1o 3.4 index and the El Ni\u00f1o/La Ni\u00f1a\n  thresholds;\n- similarly,\n  [cfplot.plotvars.plot.legend](https://matplotlib.org/stable/api/_as_gen/matplotlib.pyplot.legend.html)\n  is used to add a legend in the end:\n\n"
      ]
    },
    {
      "cell_type": "code",
      "execution_count": null,
      "metadata": {
        "collapsed": false
      },
      "outputs": [],
      "source": [
        "elnino = nino34_rolling >= 0.4\nlanina = nino34_rolling <= -0.4\n\ncfp.gset(xmin=\"1940-1-1\", xmax=\"2022-12-31\", ymin=-3, ymax=3)\n\ncfp.gopen(figsize=(10, 6))\ncfp.lineplot(\n    nino34_rolling,\n    color=\"black\",\n    title=\"SST Anomaly in Ni\u00f1o 3.4 Region (5N-5S, 120-170W)\",\n    ylabel=\"Temperature anomaly ($\\degree C$)\",\n    xlabel=\"Year\",\n)\ncfp.plotvars.plot.axhline(\n    0.4, color=\"red\", linestyle=\"--\", label=\"El Ni\u00f1o Threshold\"\n)\ncfp.plotvars.plot.axhline(\n    -0.4, color=\"blue\", linestyle=\"--\", label=\"La Ni\u00f1a Threshold\"\n)\ncfp.plotvars.plot.axhline(0, color=\"black\", linestyle=\"-\", linewidth=1)\ncfp.plotvars.plot.fill_between(\n    nino34_rolling.coordinate(\"T\").array,\n    0.4,\n    nino34_rolling.array.squeeze(),\n    where=elnino.squeeze(),\n    color=\"red\",\n    alpha=0.3,\n)\ncfp.plotvars.plot.fill_between(\n    nino34_rolling.coordinate(\"T\").array,\n    -0.4,\n    nino34_rolling.array.squeeze(),\n    where=lanina.squeeze(),\n    color=\"blue\",\n    alpha=0.3,\n)\ncfp.plotvars.plot.legend(frameon=False, loc=\"lower center\", ncol=2)\ncfp.gclose()"
      ]
    }
  ],
  "metadata": {
    "kernelspec": {
      "display_name": "Python 3",
      "language": "python",
      "name": "python3"
    },
    "language_info": {
      "codemirror_mode": {
        "name": "ipython",
        "version": 3
      },
      "file_extension": ".py",
      "mimetype": "text/x-python",
      "name": "python",
      "nbconvert_exporter": "python",
      "pygments_lexer": "ipython3",
      "version": "3.10.8"
    }
  },
  "nbformat": 4,
  "nbformat_minor": 0
}