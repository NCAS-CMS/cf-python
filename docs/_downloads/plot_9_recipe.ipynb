{
  "cells": [
    {
      "cell_type": "code",
      "execution_count": null,
      "metadata": {
        "collapsed": false
      },
      "outputs": [],
      "source": [
        "%matplotlib inline"
      ]
    },
    {
      "cell_type": "markdown",
      "metadata": {},
      "source": [
        "\n# Plotting a joint histogram\n\nIn this recipe, we will be creating a joint histogram of PM2.5 mass concentration and 2-metre temperature.\n"
      ]
    },
    {
      "cell_type": "markdown",
      "metadata": {},
      "source": [
        "1. Import cf-python, numpy and matplotlib.pyplot:\n\n"
      ]
    },
    {
      "cell_type": "code",
      "execution_count": null,
      "metadata": {
        "collapsed": false
      },
      "outputs": [],
      "source": [
        "import cf\nimport numpy as np\nimport matplotlib.pyplot as plt"
      ]
    },
    {
      "cell_type": "markdown",
      "metadata": {},
      "source": [
        "2. Read the field constructs using read function:\n\n"
      ]
    },
    {
      "cell_type": "code",
      "execution_count": null,
      "metadata": {
        "collapsed": false
      },
      "outputs": [],
      "source": [
        "f = cf.read(\"~/recipes/levtype_sfc.nc\")\nprint(f)"
      ]
    },
    {
      "cell_type": "markdown",
      "metadata": {},
      "source": [
        "3. Select the PM2.5 mass concentration and 2-metre temperature fields by index and print the description to show properties of all constructs:\n\n"
      ]
    },
    {
      "cell_type": "code",
      "execution_count": null,
      "metadata": {
        "collapsed": false
      },
      "outputs": [],
      "source": [
        "pm25_field = f[2]\npm25_field.dump()"
      ]
    },
    {
      "cell_type": "code",
      "execution_count": null,
      "metadata": {
        "collapsed": false
      },
      "outputs": [],
      "source": [
        "temp_field = f[3]\ntemp_field.dump()"
      ]
    },
    {
      "cell_type": "markdown",
      "metadata": {},
      "source": [
        "4. Convert the units to degree celsius for the temperature field:\n\n"
      ]
    },
    {
      "cell_type": "code",
      "execution_count": null,
      "metadata": {
        "collapsed": false
      },
      "outputs": [],
      "source": [
        "temp_field.units = 'degC'\ntemp_field.get_property('units')"
      ]
    },
    {
      "cell_type": "markdown",
      "metadata": {},
      "source": [
        "5. Digitize the PM2.5 mass concentration and 2-metre temperature fields:\n\n"
      ]
    },
    {
      "cell_type": "code",
      "execution_count": null,
      "metadata": {
        "collapsed": false
      },
      "outputs": [],
      "source": [
        "pm25_indices, pm25_bins = pm25_field.digitize(10, return_bins=True)\ntemp_indices, temp_bins = temp_field.digitize(10, return_bins=True)"
      ]
    },
    {
      "cell_type": "markdown",
      "metadata": {},
      "source": [
        "6. Create a joint histogram of the digitized fields:\n\n"
      ]
    },
    {
      "cell_type": "code",
      "execution_count": null,
      "metadata": {
        "collapsed": false
      },
      "outputs": [],
      "source": [
        "joint_histogram = cf.histogram(pm25_indices, temp_indices)"
      ]
    },
    {
      "cell_type": "markdown",
      "metadata": {},
      "source": [
        "7. Get histogram data from the ``joint_histogram``:\n\n"
      ]
    },
    {
      "cell_type": "code",
      "execution_count": null,
      "metadata": {
        "collapsed": false
      },
      "outputs": [],
      "source": [
        "histogram_data = joint_histogram.array"
      ]
    },
    {
      "cell_type": "markdown",
      "metadata": {},
      "source": [
        "8. Calculate bin centers for PM2.5 and temperature bins:\n\n"
      ]
    },
    {
      "cell_type": "code",
      "execution_count": null,
      "metadata": {
        "collapsed": false
      },
      "outputs": [],
      "source": [
        "pm25_bin_centers = [(a + b) / 2 for a, b in pm25_bins]\ntemp_bin_centers = [(a + b) / 2 for a, b in temp_bins]"
      ]
    },
    {
      "cell_type": "markdown",
      "metadata": {},
      "source": [
        "9. Create grids for PM2.5 and temperature bins using [numpy.meshgrid](https://numpy.org/doc/stable/reference/generated/numpy.meshgrid.html):\n\n"
      ]
    },
    {
      "cell_type": "code",
      "execution_count": null,
      "metadata": {
        "collapsed": false
      },
      "outputs": [],
      "source": [
        "temp_grid, pm25_grid = np.meshgrid(temp_bin_centers, pm25_bin_centers)"
      ]
    },
    {
      "cell_type": "markdown",
      "metadata": {},
      "source": [
        "10. Plot the joint histogram using [matplotlib.pyplot.pcolormesh](http://matplotlib.org/stable/api/_as_gen/matplotlib.pyplot.pcolormesh.html):\n\n"
      ]
    },
    {
      "cell_type": "code",
      "execution_count": null,
      "metadata": {
        "collapsed": false
      },
      "outputs": [],
      "source": [
        "plt.pcolormesh(temp_grid, pm25_grid, histogram_data, cmap='viridis')\nplt.xlabel('2-metre Temperature (degC)')\nplt.ylabel('PM2.5 Mass Concentration (kg m**-3)')\nplt.xticks(temp_bin_centers, rotation=45)\nplt.yticks(pm25_bin_centers)\nplt.colorbar(label='Frequency')\nplt.title('Joint Histogram of PM2.5 and 2-metre Temperature', y=1.05)\nplt.show()"
      ]
    }
  ],
  "metadata": {
    "kernelspec": {
      "display_name": "Python 3",
      "language": "python",
      "name": "python3"
    },
    "language_info": {
      "codemirror_mode": {
        "name": "ipython",
        "version": 3
      },
      "file_extension": ".py",
      "mimetype": "text/x-python",
      "name": "python",
      "nbconvert_exporter": "python",
      "pygments_lexer": "ipython3",
      "version": "3.10.9"
    }
  },
  "nbformat": 4,
  "nbformat_minor": 0
}