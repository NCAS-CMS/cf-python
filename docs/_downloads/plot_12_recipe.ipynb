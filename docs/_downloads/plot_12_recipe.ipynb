{
  "cells": [
    {
      "cell_type": "code",
      "execution_count": null,
      "metadata": {
        "collapsed": false
      },
      "outputs": [],
      "source": [
        "%matplotlib inline"
      ]
    },
    {
      "cell_type": "markdown",
      "metadata": {},
      "source": [
        "\n# Using mask to plot Aerosol Optical Depth\n\nIn this recipe, we will make use of a\n[masked array](https://ncas-cms.github.io/cf-python/constant.html#cf.cf.masked)\nto plot the `high-quality` retrieval of Aerosol Optical Depth (AOD) from all other\nretrievals.\n"
      ]
    },
    {
      "cell_type": "markdown",
      "metadata": {},
      "source": [
        "1. Import cf-python, cf-plot and matplotlib.pyplot:\n\n"
      ]
    },
    {
      "cell_type": "code",
      "execution_count": null,
      "metadata": {
        "collapsed": false
      },
      "outputs": [],
      "source": [
        "import cfplot as cfp\nimport matplotlib.pyplot as plt\n\nimport cf"
      ]
    },
    {
      "cell_type": "markdown",
      "metadata": {},
      "source": [
        "2. Read the field constructs:\n\n"
      ]
    },
    {
      "cell_type": "code",
      "execution_count": null,
      "metadata": {
        "collapsed": false
      },
      "outputs": [],
      "source": [
        "fl = cf.read(\n    \"~/recipes/JRR-AOD_v3r0_npp_s202012310752331_e202012310753573_c202100000000000.nc\"\n)\nprint(fl)"
      ]
    },
    {
      "cell_type": "markdown",
      "metadata": {},
      "source": [
        "3. Select AOD from the field list by identity and look at the contents:\n\n"
      ]
    },
    {
      "cell_type": "code",
      "execution_count": null,
      "metadata": {
        "collapsed": false
      },
      "outputs": [],
      "source": [
        "aod = fl.select_field(\"long_name=AOT at 0.55 micron for both ocean and land\")\nprint(aod)"
      ]
    },
    {
      "cell_type": "markdown",
      "metadata": {},
      "source": [
        "4. Select AOD retrieval quality by index and look at the quality flags:\n\n"
      ]
    },
    {
      "cell_type": "code",
      "execution_count": null,
      "metadata": {
        "collapsed": false
      },
      "outputs": [],
      "source": [
        "quality = fl[13]\nprint(quality)"
      ]
    },
    {
      "cell_type": "markdown",
      "metadata": {},
      "source": [
        "5. Select latitude and longitude dimensions by identities, with two different\ntechniques:\n\n"
      ]
    },
    {
      "cell_type": "code",
      "execution_count": null,
      "metadata": {
        "collapsed": false
      },
      "outputs": [],
      "source": [
        "lon = aod.coordinate(\"long_name=Longitude\")\nlat = aod.coordinate(\"Y\")"
      ]
    },
    {
      "cell_type": "markdown",
      "metadata": {},
      "source": [
        "6. Plot the AOD for all the retrievals using\n[cfplot.con](http://ajheaps.github.io/cf-plot/con.html). Here the argument\n``'ptype'`` specifies the type of plot to use (latituide-longitude here) and\nthe argument ``'lines=False'`` does not draw contour lines:\n\n"
      ]
    },
    {
      "cell_type": "code",
      "execution_count": null,
      "metadata": {
        "collapsed": false
      },
      "outputs": [],
      "source": [
        "cfp.con(f=aod.array, x=lon.array, y=lat.array, ptype=1, lines=False)"
      ]
    },
    {
      "cell_type": "markdown",
      "metadata": {},
      "source": [
        "7. Create a mask for AOD based on the quality of the retrieval. The\n``'__ne__'`` method is an implementation of the ``!=`` operator. It is used to\ncreate a mask where all the `high-quality` AOD points (with the flag 0) are\nmarked as ``False``, and all the other data points (medium quality, low\nquality, or no retrieval) are marked as ``True``:\n\n"
      ]
    },
    {
      "cell_type": "code",
      "execution_count": null,
      "metadata": {
        "collapsed": false
      },
      "outputs": [],
      "source": [
        "mask = quality.array.__ne__(0)"
      ]
    },
    {
      "cell_type": "markdown",
      "metadata": {},
      "source": [
        "8. Apply the mask to the AOD dataset. The ``'where'`` function takes the\nmask as an input and replaces all the values in the AOD dataset that\ncorrespond to ``True`` in the mask with a masked value using [cf.masked](https://ncas-cms.github.io/cf-python/constant.html#cf.cf.masked).\nIn this case, all AOD values that are not of `high-quality` (since they were\nmarked as ``True`` in the mask) are masked. This means that the ``high``\nvariable contains only the AOD data that was retrieved with `high-quality`:\n\n"
      ]
    },
    {
      "cell_type": "code",
      "execution_count": null,
      "metadata": {
        "collapsed": false
      },
      "outputs": [],
      "source": [
        "high = aod.where(mask, cf.masked)"
      ]
    },
    {
      "cell_type": "markdown",
      "metadata": {},
      "source": [
        "9. Now plot both the AOD from `high-quality` retrieval and all other retrievals \nusing [cfplot.con](http://ajheaps.github.io/cf-plot/con.html). Here:\n\n- [cfplot.gopen](http://ajheaps.github.io/cf-plot/gopen.html) is used to \n  define the parts of the plot area, specifying that the figure should have \n  1 row and 2 columns, which is closed by \n  [cfplot.gclose](http://ajheaps.github.io/cf-plot/gclose.html);\n- [plt.suptitle](https://matplotlib.org/stable/api/_as_gen/matplotlib.pyplot.suptitle.html)\n  is used to add a title for the whole figure;\n- the subplots for plotting are selected using \n  [cfplot.gpos](https://ajheaps.github.io/cf-plot/gpos.html) after which \n  [cfplot.mapset](https://ajheaps.github.io/cf-plot/mapset.html) is used to \n  set the map limits and resolution for the subplots;  \n- and as cf-plot stores the plot in a plot object with the name \n  ``cfp.plotvars.plot``, country borders are added using normal \n  [Cartopy operations](https://scitools.org.uk/cartopy/docs/latest/reference/index.html) \n  on the ``cfp.plotvars.mymap`` object:\n\n"
      ]
    },
    {
      "cell_type": "code",
      "execution_count": null,
      "metadata": {
        "collapsed": false
      },
      "outputs": [],
      "source": [
        "import cartopy.feature as cfeature\n\ncfp.gopen(rows=1, columns=2, bottom=0.2)\nplt.suptitle(\"AOD for both ocean and land\", fontsize=20)\ncfp.gpos(1)\ncfp.mapset(resolution=\"50m\", lonmin=68, lonmax=98, latmin=7, latmax=36)\ncfp.con(\n    f=aod.array,\n    x=lon.array,\n    y=lat.array,\n    ptype=1,\n    lines=False,\n    title=\"All retrievals\",\n    colorbar=None,\n)\ncfp.plotvars.mymap.add_feature(cfeature.BORDERS)\ncfp.gpos(2)\ncfp.mapset(resolution=\"50m\", lonmin=68, lonmax=98, latmin=7, latmax=36)\ncfp.con(\n    f=high.array,\n    x=lon.array,\n    y=lat.array,\n    ptype=1,\n    lines=False,\n    title=\"High quality retrieval\",\n    colorbar_position=[0.1, 0.20, 0.8, 0.02],\n    colorbar_orientation=\"horizontal\",\n    colorbar_title=\"AOD at 0.55 $\\mu$\",\n)\ncfp.plotvars.mymap.add_feature(cfeature.BORDERS)\ncfp.gclose()"
      ]
    }
  ],
  "metadata": {
    "kernelspec": {
      "display_name": "Python 3",
      "language": "python",
      "name": "python3"
    },
    "language_info": {
      "codemirror_mode": {
        "name": "ipython",
        "version": 3
      },
      "file_extension": ".py",
      "mimetype": "text/x-python",
      "name": "python",
      "nbconvert_exporter": "python",
      "pygments_lexer": "ipython3",
      "version": "3.10.9"
    }
  },
  "nbformat": 4,
  "nbformat_minor": 0
}