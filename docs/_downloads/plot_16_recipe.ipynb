{
  "cells": [
    {
      "cell_type": "code",
      "execution_count": null,
      "metadata": {
        "collapsed": false
      },
      "outputs": [],
      "source": [
        "%matplotlib inline"
      ]
    },
    {
      "cell_type": "markdown",
      "metadata": {},
      "source": [
        "\n# Plotting contour subplots with different projections\n\nIn this recipe, we will plot the same data using different projections\nas subplots to illustrate visually some available possibilities.\n"
      ]
    },
    {
      "cell_type": "markdown",
      "metadata": {},
      "source": [
        "1. Import cf-python and cf-plot:\n\n"
      ]
    },
    {
      "cell_type": "code",
      "execution_count": null,
      "metadata": {
        "collapsed": false
      },
      "outputs": [],
      "source": [
        "import cfplot as cfp\n\nimport cf"
      ]
    },
    {
      "cell_type": "markdown",
      "metadata": {},
      "source": [
        "2. Read the field in:\n\n"
      ]
    },
    {
      "cell_type": "code",
      "execution_count": null,
      "metadata": {
        "collapsed": false
      },
      "outputs": [],
      "source": [
        "f = cf.read(\"~/recipes/ggap.nc\")[0]"
      ]
    },
    {
      "cell_type": "markdown",
      "metadata": {},
      "source": [
        "3. List the projection types to use. Here we are using\nCylindrical/Default, North Pole Stereographic, South Pole Stereographic,\nMollweide, Mercator and Robinson. However there are several other choices\npossible, see:\nhttps://ncas-cms.github.io/cf-plot/build/user_guide.html#appendixc. Our\nchosen list is:\n\n"
      ]
    },
    {
      "cell_type": "code",
      "execution_count": null,
      "metadata": {
        "collapsed": false
      },
      "outputs": [],
      "source": [
        "projtypes = [\"cyl\", \"npstere\", \"spstere\", \"moll\", \"merc\", \"robin\"]"
      ]
    },
    {
      "cell_type": "markdown",
      "metadata": {},
      "source": [
        "4. Create the file with subplots. If changing the number of subplots,\nensure the number of rows * number of columns = the number of projections.\nHere we are doing 6 projections so 2 x 3 is fine. Then loop through the\nlist of projection types and plot each as a sub-plot:\n\n"
      ]
    },
    {
      "cell_type": "code",
      "execution_count": null,
      "metadata": {
        "collapsed": false
      },
      "outputs": [],
      "source": [
        "cfp.gopen(rows=2, columns=3, bottom=0.2)\nfor i, proj in enumerate(projtypes):\n    # gpos has 1 added to the index because it takes 1 as its first value\n    cfp.gpos(i + 1)\n    cfp.mapset(proj=proj)\n\n    # For the final plot only, add a colour bar to cover all the sub-plots\n    if i == len(projtypes) - 1:\n        cfp.con(\n            f.subspace(pressure=850),\n            lines=False,\n            title=proj,\n            colorbar_position=[0.1, 0.1, 0.8, 0.02],\n            colorbar_orientation=\"horizontal\",\n        )\n    else:\n        cfp.con(\n            f.subspace(pressure=850),\n            lines=False,\n            title=proj,\n            colorbar=False,\n        )\ncfp.gclose()"
      ]
    }
  ],
  "metadata": {
    "kernelspec": {
      "display_name": "Python 3",
      "language": "python",
      "name": "python3"
    },
    "language_info": {
      "codemirror_mode": {
        "name": "ipython",
        "version": 3
      },
      "file_extension": ".py",
      "mimetype": "text/x-python",
      "name": "python",
      "nbconvert_exporter": "python",
      "pygments_lexer": "ipython3",
      "version": "3.11.11"
    }
  },
  "nbformat": 4,
  "nbformat_minor": 0
}