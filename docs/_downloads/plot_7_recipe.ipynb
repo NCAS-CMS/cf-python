{
  "cells": [
    {
      "cell_type": "code",
      "execution_count": null,
      "metadata": {
        "collapsed": false
      },
      "outputs": [],
      "source": [
        "%matplotlib inline"
      ]
    },
    {
      "cell_type": "markdown",
      "metadata": {},
      "source": [
        "\n# Plotting members of a model ensemble\n\nIn this recipe, we will plot the members of a model ensemble.\n"
      ]
    },
    {
      "cell_type": "markdown",
      "metadata": {},
      "source": [
        "1. Import cf-python and cf-plot:\n\n"
      ]
    },
    {
      "cell_type": "code",
      "execution_count": null,
      "metadata": {
        "collapsed": false
      },
      "outputs": [],
      "source": [
        "import cf\nimport cfplot as cfp"
      ]
    },
    {
      "cell_type": "markdown",
      "metadata": {},
      "source": [
        "2. Read the field constructs using read function and store it in the variable ``f``. The * in the filename is a wildcard character which means the function reads all files in the directory that match the specified pattern. [0:5] selects the first five elements of the resulting list:\n\n"
      ]
    },
    {
      "cell_type": "code",
      "execution_count": null,
      "metadata": {
        "collapsed": false
      },
      "outputs": [],
      "source": [
        "f = cf.read('~/recipes/realization/PRMSL.1941_mem*.nc')[0:5]\nprint(f)"
      ]
    },
    {
      "cell_type": "markdown",
      "metadata": {},
      "source": [
        "3. The desciption of one of the fields from the list shows ``'realization'`` as a property by which the members of the model ensemble are labelled:\n\n"
      ]
    },
    {
      "cell_type": "code",
      "execution_count": null,
      "metadata": {
        "collapsed": false
      },
      "outputs": [],
      "source": [
        "f[1].dump()"
      ]
    },
    {
      "cell_type": "markdown",
      "metadata": {},
      "source": [
        "4. An ensemble of the members is then created by aggregating the data in ``f`` along the ``'realization'`` using the cf.aggregate function and storing the result in the variable ``ensemble``. ``'relaxed_identities=True'`` allows for missing coordinate identities to be inferred. [0] selects the first element of the resulting list. ``id%realization`` now shows as an auxiliary coordinate for the ensemble:\n\n"
      ]
    },
    {
      "cell_type": "code",
      "execution_count": null,
      "metadata": {
        "collapsed": false
      },
      "outputs": [],
      "source": [
        "ensemble = cf.aggregate(f, dimension=('realization',), relaxed_identities=True)[0]\nprint(ensemble)"
      ]
    },
    {
      "cell_type": "markdown",
      "metadata": {},
      "source": [
        "5. To see the constructs for the ensemble, the *constructs* attribute is passed in print:\n\n"
      ]
    },
    {
      "cell_type": "code",
      "execution_count": null,
      "metadata": {
        "collapsed": false
      },
      "outputs": [],
      "source": [
        "print(ensemble.constructs)"
      ]
    },
    {
      "cell_type": "markdown",
      "metadata": {},
      "source": [
        "6. Loop over the realizations in the ensemble using the *range* function and the *domain_axis* to determine the size of the realization dimension. For each realization, extract a subspace of the ensemble using the *subspace* method and the ``'id%realization'`` keyword argument along specific latitude and longitude and plot the realizations from the 4D field using [cfplot.lineplot](http://ajheaps.github.io/cf-plot/lineplot.html). \nA moving average of the ensemble along the time axis, with a window size of 90 (i.e., a 3-month moving average) is calculated using the *moving_window* method. The ``mode='nearest'`` parameter is used to specify that the padded data should be filled with the values of the nearest data point. The *squeeze* method removes any dimensions of size 1 from the field to produce a 2D field:\n\n"
      ]
    },
    {
      "cell_type": "code",
      "execution_count": null,
      "metadata": {
        "collapsed": false
      },
      "outputs": [],
      "source": [
        "cfp.gopen()\n\nfor realization in range(1, ensemble.domain_axis('id%realization').size + 1):\n    cfp.lineplot(\n        ensemble.subspace(**{'id%realization': realization},\n            latitude=[0], longitude=[0]).squeeze(),\n        label=f'Member {realization}',\n        linewidth=1.0)\n\ncfp.lineplot(ensemble.moving_window(method='mean', window_size=90, axis='T', mode='nearest')[0, :, 0, 0].squeeze(),\n    label='Ensemble mean', linewidth=2.0, color='black',\n    title='Model Ensemble Pressure')\n    \ncfp.gclose()"
      ]
    }
  ],
  "metadata": {
    "kernelspec": {
      "display_name": "Python 3",
      "language": "python",
      "name": "python3"
    },
    "language_info": {
      "codemirror_mode": {
        "name": "ipython",
        "version": 3
      },
      "file_extension": ".py",
      "mimetype": "text/x-python",
      "name": "python",
      "nbconvert_exporter": "python",
      "pygments_lexer": "ipython3",
      "version": "3.9.16"
    }
  },
  "nbformat": 4,
  "nbformat_minor": 0
}